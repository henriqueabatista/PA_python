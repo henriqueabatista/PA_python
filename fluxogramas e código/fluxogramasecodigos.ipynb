{
  "nbformat": 4,
  "nbformat_minor": 0,
  "metadata": {
    "colab": {
      "provenance": [],
      "authorship_tag": "ABX9TyPLLBFbwBgHczOX0Nh4uMy4",
      "include_colab_link": true
    },
    "kernelspec": {
      "name": "python3",
      "display_name": "Python 3"
    },
    "language_info": {
      "name": "python"
    }
  },
  "cells": [
    {
      "cell_type": "markdown",
      "metadata": {
        "id": "view-in-github",
        "colab_type": "text"
      },
      "source": [
        "<a href=\"https://colab.research.google.com/github/henriqueabatista/PA_python/blob/main/fluxogramas%20e%20c%C3%B3digo/fluxogramasecodigos.ipynb\" target=\"_parent\"><img src=\"https://colab.research.google.com/assets/colab-badge.svg\" alt=\"Open In Colab\"/></a>"
      ]
    },
    {
      "cell_type": "code",
      "execution_count": 1,
      "metadata": {
        "id": "2rJ0S0Y6Gcpd",
        "colab": {
          "base_uri": "https://localhost:8080/"
        },
        "outputId": "fad9ccfc-1707-44bc-c6a8-c33fc5143067"
      },
      "outputs": [
        {
          "output_type": "stream",
          "name": "stdout",
          "text": [
            "digite o valor do carro25000\n",
            "o valor total do carro será 46400.0\n"
          ]
        }
      ],
      "source": [
        "#Entrada\n",
        "\n",
        "valorcarro = float(input('digite o valor do carro'))\n",
        "\n",
        "##Processamento\n",
        "\n",
        "imposto = (valorcarro * 45/100) + valorcarro\n",
        "distribuicao = (imposto * 28/100) + imposto\n",
        "\n",
        "##Saída\n",
        "\n",
        "print('o valor total do carro será', distribuicao)"
      ]
    }
  ]
}