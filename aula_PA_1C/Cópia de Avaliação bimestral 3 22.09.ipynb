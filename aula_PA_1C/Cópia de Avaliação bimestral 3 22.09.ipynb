{
 "cells": [
  {
   "cell_type": "markdown",
   "metadata": {
    "id": "XpJAZxJGnsjo"
   },
   "source": [
    "Coloque seu nome aqui:"
   ]
  },
  {
   "cell_type": "markdown",
   "metadata": {
    "id": "psR_IyuqtxJc"
   },
   "source": [
    "**Atividade Avaliativa **\n",
    "\n",
    "Enunciado:\n",
    "\n",
    "Crie um programa em Python para avaliar uma competição de bandas de música. O programa deve:\n",
    "\n",
    "Perguntar a quantidade de bandas participantes (mínimo 3).\n",
    "\n",
    "Perguntar o nome de cada banda.\n",
    "\n",
    "Para cada banda, receber as notas de 5 jurados (valores de 0 a 10).\n",
    "\n",
    "Calcular a média das notas de cada banda e armazenar o resultado em um dicionário, onde a chave será o nome da banda e o valor será a média das notas.\n",
    "\n",
    "Ao final, mostrar:\n",
    "\n",
    "A média de cada banda.\n",
    "\n",
    "O nome da banda vencedora (a que tiver maior média)."
   ]
  },
  {
   "cell_type": "code",
   "execution_count": 87,
   "metadata": {},
   "outputs": [
    {
     "name": "stdout",
     "output_type": "stream",
     "text": [
      "Digite a quantidade de bandas: 3\n",
      "digite o nome da banda 1: a\n",
      "digite o nome da banda 2: b\n",
      "digite o nome da banda 3: c\n",
      "digite a nota do jurado 1 para a: 5\n",
      "digite a nota do jurado 1 para b: 6\n",
      "digite a nota do jurado 1 para c: 7\n",
      "digite a nota do jurado 2 para a: 5\n",
      "digite a nota do jurado 2 para b: 6\n",
      "digite a nota do jurado 2 para c: 7\n",
      "digite a nota do jurado 3 para a: 5\n",
      "digite a nota do jurado 3 para b: 6\n",
      "digite a nota do jurado 3 para c: 7\n",
      "digite a nota do jurado 4 para a: 5\n",
      "digite a nota do jurado 4 para b: 6\n",
      "digite a nota do jurado 4 para c: 7\n",
      "digite a nota do jurado 5 para a: 5\n",
      "digite a nota do jurado 5 para b: 6\n",
      "digite a nota do jurado 5 para c: 7\n",
      "\n",
      "Média total da banda 1:  5.0\n",
      "\n",
      "Média total da banda 2:  6.0\n",
      "\n",
      "Média total da banda 3:  7.0\n"
     ]
    }
   ],
   "source": [
    "quantidade = int(input(\"Digite a quantidade de bandas: \"))\n",
    "\n",
    "notas = { }\n",
    "\n",
    "for i in range (quantidade):\n",
    "    nome1 = input(f\"digite o nome da banda 1: \")\n",
    "    nome2 = input(f\"digite o nome da banda 2: \")\n",
    "    nome3 = input(f\"digite o nome da banda 3: \")\n",
    "    break\n",
    "    \n",
    "soma1 = 0\n",
    "soma2 = 0\n",
    "soma3 = 0\n",
    "\n",
    "for j in range(5):\n",
    "    nota1 = float(input(f\"digite a nota do jurado {j+1} para {nome1}: \"))\n",
    "    nota2 = float(input(f\"digite a nota do jurado {j+1} para {nome2}: \"))\n",
    "    nota3 = float(input(f\"digite a nota do jurado {j+1} para {nome3}: \"))\n",
    "    \n",
    "soma1 += nota1\n",
    "soma2 += nota2\n",
    "soma3 += nota3\n",
    "\n",
    "print(\"\\nMédia total da banda 1: \", soma1)\n",
    "print(\"\\nMédia total da banda 2: \", soma2)\n",
    "print(\"\\nMédia total da banda 3: \", soma3)"
   ]
  },
  {
   "cell_type": "markdown",
   "metadata": {
    "id": "fRV1N-Q4G7BK"
   },
   "source": [
    "##### Enunciado:\n",
    "\n",
    "Crie um programa que conte quantas vezes cada palavra aparece em uma frase.\n",
    "\n",
    "Pedir ao usuário para digitar uma frase\n",
    "\n",
    "Imprimir a palavra e quantas vezes ela aparece"
   ]
  },
  {
   "cell_type": "code",
   "execution_count": 45,
   "metadata": {
    "id": "HwK3-mVQHv8j"
   },
   "outputs": [
    {
     "name": "stdout",
     "output_type": "stream",
     "text": [
      "digite uma frase: hoje eu vou para a praia\n",
      "\n",
      "Contagem de palavras: \n",
      "hoje:1\n",
      "eu:1\n",
      "vou:1\n",
      "para:1\n",
      "a:1\n",
      "praia:1\n"
     ]
    }
   ],
   "source": [
    "frase = input(\"digite uma frase: \")\n",
    "\n",
    "palavras = frase.lower( ) .split( )\n",
    "\n",
    "contagem = { }\n",
    "\n",
    "for palavra in palavras:\n",
    "    if palavra in contagem:\n",
    "        contagem [palavra] += 1\n",
    "        \n",
    "    else:\n",
    "        contagem [palavra] = 1\n",
    "        \n",
    "print(\"\\nContagem de palavras: \")\n",
    "\n",
    "for palavra, quantidade in contagem.items( ):\n",
    "    print(f\"{palavra}:{quantidade}\")\n"
   ]
  },
  {
   "cell_type": "markdown",
   "metadata": {
    "id": "BKrOSqrOI2T5"
   },
   "source": [
    "Enunciado:\n",
    "\n",
    "Crie um programa em python que imprima números pares\n",
    "\n",
    "Pedir o usuário para digitar uma lista com mínimo 10 números\n",
    "\n",
    "Criar uma nova somente com numeros pares\n",
    "\n",
    "Imprimir números pares\n",
    "\n"
   ]
  },
  {
   "cell_type": "code",
   "execution_count": 72,
   "metadata": {
    "id": "dBf7H6s9MjgZ"
   },
   "outputs": [
    {
     "ename": "SyntaxError",
     "evalue": "invalid syntax (4255967498.py, line 3)",
     "output_type": "error",
     "traceback": [
      "\u001b[1;36m  Cell \u001b[1;32mIn [72], line 3\u001b[1;36m\u001b[0m\n\u001b[1;33m    numeros_inteiros = [int(numeros) for numero_lista]\u001b[0m\n\u001b[1;37m                                                     ^\u001b[0m\n\u001b[1;31mSyntaxError\u001b[0m\u001b[1;31m:\u001b[0m invalid syntax\n"
     ]
    }
   ],
   "source": []
  },
  {
   "cell_type": "code",
   "execution_count": null,
   "metadata": {},
   "outputs": [],
   "source": []
  }
 ],
 "metadata": {
  "colab": {
   "authorship_tag": "ABX9TyMPfa4id0nMFHSWqcbBwSar",
   "provenance": [
    {
     "file_id": "1oEsagsr0AUsUTO9iGnea3JAW6NiCwqeB",
     "timestamp": 1758547990346
    },
    {
     "file_id": "1LADCxzYvBqiYFcjSgL_Z5bblVMBbsfJg",
     "timestamp": 1757516692807
    }
   ]
  },
  "kernelspec": {
   "display_name": "Python 3 (ipykernel)",
   "language": "python",
   "name": "python3"
  },
  "language_info": {
   "codemirror_mode": {
    "name": "ipython",
    "version": 3
   },
   "file_extension": ".py",
   "mimetype": "text/x-python",
   "name": "python",
   "nbconvert_exporter": "python",
   "pygments_lexer": "ipython3",
   "version": "3.10.7"
  }
 },
 "nbformat": 4,
 "nbformat_minor": 1
}
