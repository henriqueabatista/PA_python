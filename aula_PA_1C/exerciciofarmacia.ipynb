{
  "nbformat": 4,
  "nbformat_minor": 0,
  "metadata": {
    "colab": {
      "provenance": [],
      "authorship_tag": "ABX9TyOsT01Aw7PuVG+BT/Xg13PY",
      "include_colab_link": true
    },
    "kernelspec": {
      "name": "python3",
      "display_name": "Python 3"
    },
    "language_info": {
      "name": "python"
    }
  },
  "cells": [
    {
      "cell_type": "markdown",
      "metadata": {
        "id": "view-in-github",
        "colab_type": "text"
      },
      "source": [
        "<a href=\"https://colab.research.google.com/github/henriqueabatista/PA_python/blob/main/aula_PA_1C/exerciciofarmacia.ipynb\" target=\"_parent\"><img src=\"https://colab.research.google.com/assets/colab-badge.svg\" alt=\"Open In Colab\"/></a>"
      ]
    },
    {
      "cell_type": "code",
      "execution_count": 8,
      "metadata": {
        "colab": {
          "base_uri": "https://localhost:8080/"
        },
        "id": "RbbMCaUt4A5h",
        "outputId": "981e3de6-a9bb-42e7-c34d-8aeb53ee9e03"
      },
      "outputs": [
        {
          "output_type": "stream",
          "name": "stdout",
          "text": [
            "Informe o valor do medicamento: 250\n",
            "Informe a idade do cliente: 65\n",
            "Valor do desconto: R$ 50.0\n",
            "Valor final a ser pago: R$ 200.0\n"
          ]
        }
      ],
      "source": [
        "# Entrada de dados\n",
        "valor_original = float(input(\"Informe o valor do medicamento: \"))\n",
        "idade = int(input(\"Informe a idade do cliente: \"))\n",
        "\n",
        "# Inicializa o desconto\n",
        "desconto = 0\n",
        "\n",
        "# Verificações de desconto\n",
        "if idade < 12:\n",
        "    desconto = 0.15 * valor_original\n",
        "\n",
        "if idade >= 60 and idade <= 75:\n",
        "    desconto = 0.20 * valor_original\n",
        "\n",
        "if idade > 75:\n",
        "    desconto = 0.25 * valor_original\n",
        "\n",
        "# Cálculo do valor final\n",
        "valor_final = valor_original - desconto\n",
        "\n",
        "# Saída\n",
        "print(\"Valor do desconto: R$\", desconto)\n",
        "print(\"Valor final a ser pago: R$\", valor_final)\n",
        ""
      ]
    }
  ]
}