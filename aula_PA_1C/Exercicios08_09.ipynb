{
  "nbformat": 4,
  "nbformat_minor": 0,
  "metadata": {
    "colab": {
      "provenance": [],
      "include_colab_link": true
    },
    "kernelspec": {
      "name": "python3",
      "display_name": "Python 3"
    },
    "language_info": {
      "name": "python"
    }
  },
  "cells": [
    {
      "cell_type": "markdown",
      "metadata": {
        "id": "view-in-github",
        "colab_type": "text"
      },
      "source": [
        "<a href=\"https://colab.research.google.com/github/henriqueabatista/PA_python/blob/main/aula_PA_1C/Exercicios08_09.ipynb\" target=\"_parent\"><img src=\"https://colab.research.google.com/assets/colab-badge.svg\" alt=\"Open In Colab\"/></a>"
      ]
    },
    {
      "cell_type": "markdown",
      "source": [
        "Exercicios juntos_Laços,_condicionais,_listas,_tuplas_e_dicionários_"
      ],
      "metadata": {
        "id": "gGt_UwgWrgjT"
      }
    },
    {
      "cell_type": "markdown",
      "source": [
        "# Tuplas - Acesso e Desempacotamento\n",
        "\n",
        "1) Crie uma tupla contendo três tipos diferentes de dados: um número, uma string e uma lista. Use um laço de repetição para acessar e imprimir cada item da tupla. Além disso, dentro do laço, acesse e imprima o segundo item da lista que está dentro da tupla."
      ],
      "metadata": {
        "id": "HM91bKpkBqGI"
      }
    },
    {
      "cell_type": "code",
      "source": [
        "dados = (16, \"Henrique\",[1,2,3])\n",
        "\n",
        "for i in dados:\n",
        "  print(i)"
      ],
      "metadata": {
        "colab": {
          "base_uri": "https://localhost:8080/"
        },
        "id": "sCbCOqPVYeRv",
        "outputId": "53bf1031-57a0-499b-ff7c-fcff035d69f3"
      },
      "execution_count": 2,
      "outputs": [
        {
          "output_type": "stream",
          "name": "stdout",
          "text": [
            "16\n",
            "Henrique\n",
            "[1, 2, 3]\n"
          ]
        }
      ]
    },
    {
      "cell_type": "markdown",
      "source": [
        "# Dicionários - Criação e Acesso\n",
        "## Cadastro de Pessoas e Análise de Alturas\n",
        "2) Solicite ao usuário para inserir o nome e a altura de várias pessoas. Preencha um dicionário com essas informações e depois encontre e imprima o nome e a altura da pessoa mais alta e da mais baixa."
      ],
      "metadata": {
        "id": "6vEHxGtjBxMi"
      }
    },
    {
      "cell_type": "code",
      "source": [
        "alturas = {}\n",
        "\n",
        "while True:\n",
        "  nome = input(\"Digite o nome da pessoa para cadastro ou sair: \").lower()\n",
        "\n",
        "  if nome == \"sair\":\n",
        "    pessoamaisalta = max(alturas, key=alturas.get)\n",
        "    pessoamaisbaixa = min(alturas, key=alturas.get)\n",
        "    break\n",
        "  altura = float(input(f\"Digite a altura de {nome}: \"))\n",
        "\n",
        "  alturas[nome]= altura\n",
        "  print(alturas)\n",
        "\n",
        "print(f\"A pessoa mais alta é {pessoamaisalta} com altura de {alturas[pessoamaisalta]}\")\n",
        "print(f\"A pessoa mais baixa é {pessoamaisbaixa} com altura de {alturas[pessoamaisbaixa]}\")"
      ],
      "metadata": {
        "id": "MpJYauvTZR69",
        "colab": {
          "base_uri": "https://localhost:8080/"
        },
        "outputId": "e32aa8d7-40f1-4fc5-812f-1d5edfb21abd"
      },
      "execution_count": 4,
      "outputs": [
        {
          "output_type": "stream",
          "name": "stdout",
          "text": [
            "Digite o nome da pessoa para cadastro ou sair: Artur\n",
            "Digite a altura de artur: 1.7\n",
            "{'artur': 1.7}\n",
            "Digite o nome da pessoa para cadastro ou sair: Kaua\n",
            "Digite a altura de kaua: 1.73\n",
            "{'artur': 1.7, 'kaua': 1.73}\n",
            "Digite o nome da pessoa para cadastro ou sair: sair\n",
            "A pessoa mais alta é kaua com altura de 1.73\n",
            "A pessoa mais baixa é artur com altura de 1.7\n"
          ]
        }
      ]
    },
    {
      "cell_type": "markdown",
      "source": [
        "# Lista, laços e Condicionais\n",
        "3) Descrição: Crie uma listacom cinco números inteiros. Use um laço de repetição e uma condicional para imprimir apenas os números que são múltiplos de 3."
      ],
      "metadata": {
        "id": "FytD4QZyELAt"
      }
    },
    {
      "cell_type": "code",
      "source": [
        "lista = []\n",
        "\n",
        "for i in range(5):\n",
        "  numero = int(input(\"digite um numero: \"))\n",
        "  lista.append(numero)\n",
        "  print(lista)\n",
        "\n",
        "for i in lista:\n",
        "  div = lista[0]%3\n",
        "  if div == 0:\n",
        "    print(f\"{i} é multiplo de 3\")\n",
        "  print(div)"
      ],
      "metadata": {
        "colab": {
          "base_uri": "https://localhost:8080/"
        },
        "id": "6RbMIEd6z4Y8",
        "outputId": "811e13d5-bba2-4218-c0df-a09c4672a2ce"
      },
      "execution_count": 6,
      "outputs": [
        {
          "output_type": "stream",
          "name": "stdout",
          "text": [
            "digite um numero: 6\n",
            "[6]\n",
            "digite um numero: 3\n",
            "[6, 3]\n",
            "digite um numero: 2\n",
            "[6, 3, 2]\n",
            "digite um numero: 2\n",
            "[6, 3, 2, 2]\n",
            "digite um numero: 8\n",
            "[6, 3, 2, 2, 8]\n",
            "6 é multiplo de 3\n",
            "0\n",
            "3 é multiplo de 3\n",
            "0\n",
            "2 é multiplo de 3\n",
            "0\n",
            "2 é multiplo de 3\n",
            "0\n",
            "8 é multiplo de 3\n",
            "0\n"
          ]
        }
      ]
    },
    {
      "cell_type": "markdown",
      "source": [
        "# Manipulação de Strings e Condicionais\n",
        "4) Descrição: Crie uma string com uma frase. Use uma condicional para verificar se a frase contém a palavra \"Python\". Se sim, substitua a palavra \"Python\" por \"programação\" e imprima a nova frase."
      ],
      "metadata": {
        "id": "hwn3Fz8aEYSH"
      }
    },
    {
      "cell_type": "code",
      "source": [
        "new = \"\"\n",
        "frase = \"eu faço python\"\n",
        "print(frase)\n",
        "\n",
        "\n",
        "while True:\n",
        "  if \"python\" in frase:\n",
        "    frase = frase.replace(\"python\", \"programação\")\n",
        "    print(frase)\n",
        "    break"
      ],
      "metadata": {
        "colab": {
          "base_uri": "https://localhost:8080/"
        },
        "id": "STjX0IZXfg_X",
        "outputId": "78db75b3-937a-4108-e094-7b097ab8dfb7"
      },
      "execution_count": 8,
      "outputs": [
        {
          "output_type": "stream",
          "name": "stdout",
          "text": [
            "eu faço python\n",
            "eu faço programação\n"
          ]
        }
      ]
    },
    {
      "cell_type": "markdown",
      "source": [
        "# Simulação de Alfândega com Cadastro Dinâmico de Itens usando dicionário\n",
        "5) Simule uma situação de alfândega onde o funcionário cadastra itens novos encontrados na mala de uma pessoa que veio de uma viagem internacional. Após o cadastro de todos os itens, o programa imprime uma nota com todos os itens e seus preços, calcula o valor total e, se o valor total ultrapassar 500 dólares, calcula o valor de 60% a ser pago."
      ],
      "metadata": {
        "id": "hPP-JNTxEwFT"
      }
    },
    {
      "cell_type": "code",
      "source": [
        "produtos = {}\n",
        "\n",
        "while True:\n",
        "  itens = input(\"digite o nome do produto ou digite sair para sair: \")\n",
        "  if itens == \"sair\":\n",
        "\n",
        "    break\n",
        "  valor = float(input(\"digite o preço do produto: \"))\n",
        "\n",
        "  produtos[itens] = valor\n",
        "\n",
        "print(produtos)\n",
        "total = sum(produtos.values())\n",
        "print(total)\n",
        "if total >500:\n",
        "  total = total+(0.6*total)\n",
        "print(total)"
      ],
      "metadata": {
        "colab": {
          "base_uri": "https://localhost:8080/"
        },
        "id": "CD6do_iwq-eM",
        "outputId": "63a15ed4-a25a-41fd-bd9d-387192201b38"
      },
      "execution_count": 9,
      "outputs": [
        {
          "output_type": "stream",
          "name": "stdout",
          "text": [
            "digite o nome do produto ou digite sair para sair: secador\n",
            "digite o preço do produto: 300\n",
            "digite o nome do produto ou digite sair para sair: tenis\n",
            "digite o preço do produto: 900\n",
            "digite o nome do produto ou digite sair para sair: sair\n",
            "{'secador': 300.0, 'tenis': 900.0}\n",
            "1200.0\n",
            "1920.0\n"
          ]
        }
      ]
    },
    {
      "cell_type": "markdown",
      "source": [
        "# Identificação de Palavras Negativas em um Texto\n",
        "6) Você vai criar um programa em Python para analisar um texto e identificar palavras que expressam pensamentos negativos. Para isso, você usará uma lista de palavras negativas fornecida e verificará quais dessas palavras estão presentes no texto fornecido pelo usuário. Exemplo de palavras negtivas, acrescente mais na lista: # Lista de palavras negativas palavras_negativas = ['triste', 'deprimido', 'ansioso', 'desapontado', 'frustrado']"
      ],
      "metadata": {
        "id": "OH8D047zVsp-"
      }
    },
    {
      "cell_type": "code",
      "source": [
        "negativas =  ['triste', 'deprimido', 'ansioso', 'desapontado', 'frustrado']\n",
        "frase = input(\"Digite sua frase\") .lower()\n",
        "palavra_negativa = False\n",
        "\n",
        "for i in negativas:\n",
        "  if i in frase:\n",
        "    palavra_negativa = True\n",
        "    break\n",
        "\n",
        "if palavra_negativa == True:\n",
        "  print(\"Na sua frase tem palavras negativas\" , negativas)\n",
        "else:\n",
        "  print(\"Na sua frase não tem palavras negativas\")\n"
      ],
      "metadata": {
        "id": "xDSrYWf_Vr8G",
        "colab": {
          "base_uri": "https://localhost:8080/"
        },
        "outputId": "64612269-58c5-4325-9874-11291165b95d"
      },
      "execution_count": 10,
      "outputs": [
        {
          "output_type": "stream",
          "name": "stdout",
          "text": [
            "Digite sua fraseartur miguel é um ótimo amigo\n",
            "Na sua frase não tem palavras negativas\n"
          ]
        }
      ]
    },
    {
      "cell_type": "markdown",
      "source": [
        "1) Soma dos números de uma lista\n",
        "\n",
        "Dada a lista numeros = [3, 7, 2, 8, 10], use um for para calcular a soma de todos os elementos."
      ],
      "metadata": {
        "id": "ZZZicFxfkEEg"
      }
    },
    {
      "cell_type": "code",
      "source": [
        "lista=[5,6,11,8,1]\n",
        "soma = 0\n",
        "\n",
        "for i in lista:\n",
        "  soma += i\n",
        "print(\"soma =\", soma)"
      ],
      "metadata": {
        "id": "k1C79BJdy5M2",
        "colab": {
          "base_uri": "https://localhost:8080/"
        },
        "outputId": "3cbb357a-4df6-4347-a0c3-90c55daac4d6"
      },
      "execution_count": 13,
      "outputs": [
        {
          "output_type": "stream",
          "name": "stdout",
          "text": [
            "soma = 31\n"
          ]
        }
      ]
    },
    {
      "cell_type": "markdown",
      "source": [
        "2) Contagem de vogais em uma string\n",
        "\n",
        "Peça uma palavra ao usuário e use um for para contar quantas vogais (a, e, i, o, u) existem."
      ],
      "metadata": {
        "id": "Xw8gph7LkL6R"
      }
    },
    {
      "cell_type": "code",
      "source": [
        "palavra = input(\"Digite uma palavra: \")\n",
        "contar = 0\n",
        "vogais = \"a,e,i,o,u\"\n",
        "\n",
        "for i in palavra:\n",
        "  if i in vogais:\n",
        "    contar += 1\n",
        "print(\"Está palavra tem\",contar,\"vogais\")"
      ],
      "metadata": {
        "id": "kXxiTg3ey5gM",
        "colab": {
          "base_uri": "https://localhost:8080/"
        },
        "outputId": "dd3a7efb-fadc-4ee4-8859-c11223d1ee43"
      },
      "execution_count": 14,
      "outputs": [
        {
          "output_type": "stream",
          "name": "stdout",
          "text": [
            "Digite uma palavra: preto\n",
            "Está palavra tem 2 vogais\n"
          ]
        }
      ]
    },
    {
      "cell_type": "markdown",
      "source": [
        "3) Inverter lista usando while\n",
        "\n",
        "Dada a lista nomes = [\"Ana\", \"João\", \"Carlos\", \"Maria\"], use um while para inverter a ordem dos elementos (sem usar reverse() ou slicing)."
      ],
      "metadata": {
        "id": "YfW4Aw8ckZw-"
      }
    },
    {
      "cell_type": "code",
      "source": [
        "lista = [\"Artur\", \"Henrique\", \"Kauã\", \"Pietro\"]\n",
        "inver =[]\n",
        "\n",
        "while len(lista) > 0:\n",
        "  ultimo = lista.pop() #remove e pega o último elemento\n",
        "  inver.append(ultimo)\n",
        "\n",
        "print(\"Lista invertida:\",inver)"
      ],
      "metadata": {
        "id": "HTlUceQUy6OE",
        "colab": {
          "base_uri": "https://localhost:8080/"
        },
        "outputId": "5c64d91d-9d84-4451-c190-e5787a481cce"
      },
      "execution_count": 16,
      "outputs": [
        {
          "output_type": "stream",
          "name": "stdout",
          "text": [
            "Lista invertida: ['Pietro', 'Kauã', 'Henrique', 'Artur']\n"
          ]
        }
      ]
    },
    {
      "cell_type": "markdown",
      "source": [
        "4) Maior número em uma lista\n",
        "\n",
        "Escreva um programa que percorra uma lista de inteiros e encontre o maior valor."
      ],
      "metadata": {
        "id": "cvRuv0PxkkYi"
      }
    },
    {
      "cell_type": "code",
      "source": [
        "num = [77,33,38,1,15,7,9,11,8,72]\n",
        "print(\"O maior número é:\",max(num))"
      ],
      "metadata": {
        "id": "mkgHGresy6cM",
        "colab": {
          "base_uri": "https://localhost:8080/"
        },
        "outputId": "cee9df0c-ad95-4cd7-eff3-f15724c38f06"
      },
      "execution_count": 18,
      "outputs": [
        {
          "output_type": "stream",
          "name": "stdout",
          "text": [
            "O maior número é: 77\n"
          ]
        }
      ]
    },
    {
      "cell_type": "markdown",
      "source": [
        "5) Remover elementos repetidos de uma lista\n",
        "\n",
        "Usando um for, percorra a lista valores = [1, 2, 2, 3, 4, 4, 5] e crie uma nova lista apenas com elementos únicos."
      ],
      "metadata": {
        "id": "xV6pmOVCkuCm"
      }
    },
    {
      "cell_type": "code",
      "source": [
        "valor = [1, 2, 2, 3, 4, 4, 5]\n",
        "unic = []\n",
        "\n",
        "for v in valor:\n",
        "  if v not in unic:\n",
        "    unic.append(v)\n",
        "\n",
        "print(\"Lista sem repetir elementos:\", unic)"
      ],
      "metadata": {
        "id": "k8Z816xAy7Lz",
        "colab": {
          "base_uri": "https://localhost:8080/"
        },
        "outputId": "eccc58ae-2bd2-4181-eeff-f980865b114d"
      },
      "execution_count": 19,
      "outputs": [
        {
          "output_type": "stream",
          "name": "stdout",
          "text": [
            "Lista sem repetir elementos: [1, 2, 3, 4, 5]\n"
          ]
        }
      ]
    },
    {
      "cell_type": "markdown",
      "source": [
        "6) Verificar se palavra é palíndromo\n",
        "\n",
        "Peça uma palavra ao usuário e use while ou for para verificar se ela é igual de frente para trás (ex.: \"arara\")."
      ],
      "metadata": {
        "id": "_bHj-pkzk2TX"
      }
    },
    {
      "cell_type": "code",
      "source": [
        "palavra = input(\"Digite uma palavra: \")\n",
        "\n",
        "palindromo = True\n",
        "tam = len(palavra)\n",
        "for i in range( tam // 2):\n",
        "  if palavra[i] != palavra[tam - 1 - i]:\n",
        "    palindromo = False\n",
        "    break\n",
        "if palindromo :\n",
        "  print(\"É um palíndromo\")\n",
        "else:\n",
        "  print(\"Não é um palíndromo\")"
      ],
      "metadata": {
        "id": "6YJRHpEKy8T0",
        "colab": {
          "base_uri": "https://localhost:8080/"
        },
        "outputId": "126eff2a-9ad4-42b9-f745-cea7f9676829"
      },
      "execution_count": 21,
      "outputs": [
        {
          "output_type": "stream",
          "name": "stdout",
          "text": [
            "Digite uma palavra: arara\n",
            "É um palíndromo\n"
          ]
        }
      ]
    },
    {
      "cell_type": "markdown",
      "source": [
        "7 Contagem regressiva com while\n",
        "\n",
        "Peça ao usuário um número e faça uma contagem regressiva até 0."
      ],
      "metadata": {
        "id": "1PeOPJ3ClC0c"
      }
    },
    {
      "cell_type": "code",
      "source": [
        "num = int(input(\"Digite um número: \"))\n",
        "while num >=0:\n",
        "  print(num)\n",
        "  num -= 1 #decrementa o número em 1 a cada passo, fazendo a contagem regressiva.\n"
      ],
      "metadata": {
        "id": "B-h2K2ZRy84U",
        "colab": {
          "base_uri": "https://localhost:8080/"
        },
        "outputId": "7e495454-c31f-45f9-9ace-f4816b52cb30"
      },
      "execution_count": 25,
      "outputs": [
        {
          "output_type": "stream",
          "name": "stdout",
          "text": [
            "Digite um número: 10\n",
            "10\n",
            "9\n",
            "8\n",
            "7\n",
            "6\n",
            "5\n",
            "4\n",
            "3\n",
            "2\n",
            "1\n",
            "0\n"
          ]
        }
      ]
    },
    {
      "cell_type": "markdown",
      "source": [
        "8) Percorrendo um dicionário de notas\n",
        "\n",
        "Dado o dicionário notas = {\"Ana\": 8, \"Carlos\": 7, \"Maria\": 10}, use um for para exibir cada aluno com sua nota."
      ],
      "metadata": {
        "id": "wKkDTzwelK_f"
      }
    },
    {
      "cell_type": "code",
      "source": [
        "notas = {\"Henrique\": 10, \"Artur\": 9, \"Pietro\": 10}\n",
        "for aluno,nota in notas.items():\n",
        "  print(aluno,\"tem nota\", nota )"
      ],
      "metadata": {
        "id": "bmplSTU1y9P0",
        "colab": {
          "base_uri": "https://localhost:8080/"
        },
        "outputId": "ce996704-568a-405a-9a5b-1341e83f7e15"
      },
      "execution_count": 27,
      "outputs": [
        {
          "output_type": "stream",
          "name": "stdout",
          "text": [
            "Henrique tem nota 10\n",
            "Artur tem nota 9\n",
            "Pietro tem nota 10\n"
          ]
        }
      ]
    },
    {
      "cell_type": "markdown",
      "source": [
        "9)Filtrar números pares de uma lista\n",
        "\n",
        "Dada a lista numeros = [10, 21, 32, 43, 54], use um for para criar uma nova lista contendo apenas os pares."
      ],
      "metadata": {
        "id": "xrXKbCl7lUQg"
      }
    },
    {
      "cell_type": "code",
      "source": [
        "numeros = [11, 8, 32, 43, 99]\n",
        "par = []\n",
        "for i in numeros:\n",
        "  if i %2 == 0: #verifica se o número é par\n",
        "    par.append(i)\n",
        "\n",
        "print(\"Números pares\",par)"
      ],
      "metadata": {
        "id": "aBEBrrmky9vL",
        "colab": {
          "base_uri": "https://localhost:8080/"
        },
        "outputId": "a7da21a1-62e3-426e-a892-9f1e03a013a2"
      },
      "execution_count": 29,
      "outputs": [
        {
          "output_type": "stream",
          "name": "stdout",
          "text": [
            "Números pares [8, 32]\n"
          ]
        }
      ]
    },
    {
      "cell_type": "markdown",
      "source": [
        "10) Contador de palavras em uma frase\n",
        "\n",
        "Peça ao usuário uma frase, divida em palavras (split()) e use um dicionário para contar quantas vezes cada palavra aparece."
      ],
      "metadata": {
        "id": "9pzoi0GxlcO8"
      }
    },
    {
      "cell_type": "code",
      "source": [
        "frase = input(\"Digite uma frase: \")\n",
        "palavra = frase.split()\n",
        "contar = {}\n",
        "\n",
        "for i in palavra:\n",
        "  if i in contar:\n",
        "    contar[i] +=1\n",
        "  else:\n",
        "    contar[i] = 1\n",
        "print(\"Contagem de palavras: \",contar)"
      ],
      "metadata": {
        "id": "eDgdvEWly98k",
        "colab": {
          "base_uri": "https://localhost:8080/"
        },
        "outputId": "7f498058-3e25-4a9f-d0d3-f664f27d6400"
      },
      "execution_count": 30,
      "outputs": [
        {
          "output_type": "stream",
          "name": "stdout",
          "text": [
            "Digite uma frase: hoje eu estou muito triste\n",
            "Contagem de palavras:  {'hoje': 1, 'eu': 1, 'estou': 1, 'muito': 1, 'triste': 1}\n"
          ]
        }
      ]
    }
  ]
}