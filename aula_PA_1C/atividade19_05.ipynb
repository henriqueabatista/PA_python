{
  "nbformat": 4,
  "nbformat_minor": 0,
  "metadata": {
    "colab": {
      "provenance": [],
      "authorship_tag": "ABX9TyPQAqlXzXsDv4vI9s2SH7Qn",
      "include_colab_link": true
    },
    "kernelspec": {
      "name": "python3",
      "display_name": "Python 3"
    },
    "language_info": {
      "name": "python"
    }
  },
  "cells": [
    {
      "cell_type": "markdown",
      "metadata": {
        "id": "view-in-github",
        "colab_type": "text"
      },
      "source": [
        "<a href=\"https://colab.research.google.com/github/henriqueabatista/PA_python/blob/main/aula_PA_1C/atividade19_05.ipynb\" target=\"_parent\"><img src=\"https://colab.research.google.com/assets/colab-badge.svg\" alt=\"Open In Colab\"/></a>"
      ]
    },
    {
      "cell_type": "code",
      "source": [
        "usuario_correto = \"cliente\"\n",
        "senha_correta = \"1234\"\n",
        "\n",
        "usuario = input(\"Digite o nome de usuário: \")\n",
        "senha = input(\"Digite a senha: \")\n",
        "\n",
        "if usuario == usuario_correto and senha == senha_correta:\n",
        "    print(\"Login bem-sucedido!\")\n",
        "\n",
        "    saldo = -50.00\n",
        "    limite = 3000.00\n",
        "\n",
        "    print(\"Escolha a operação:\")\n",
        "    print(\"1 - Sacar\")\n",
        "    print(\"2 - Depositar\")\n",
        "    print(\"3 - Ver saldo\")\n",
        "\n",
        "    opcao = int(input(\"Digite a opção desejada: \"))\n",
        "\n",
        "    if opcao == 1:\n",
        "        saque = float(input(\"Digite o valor que deseja sacar: \"))\n",
        "        if saque <= saldo + limite:\n",
        "            saldo = saldo - saque\n",
        "            print(\"Saque autorizado.\")\n",
        "            print(\"Saldo atual: R$\", saldo)\n",
        "            print(\"Limite restante: R$\", limite + saldo)\n",
        "            if saldo < 0:\n",
        "                print(\"Você está usando R$\", -saldo, \"do seu limite.\")\n",
        "        else:\n",
        "            print(\"Saque negado. Limite insuficiente.\")\n",
        "\n",
        "    elif opcao == 2:\n",
        "        deposito = float(input(\"Digite o valor do depósito: \"))\n",
        "        saldo = saldo + deposito\n",
        "        print(\"Depósito realizado. Novo saldo: R$\", saldo)\n",
        "        if saldo > limite:\n",
        "            print(\"Atenção: Seu saldo ultrapassou o limite permitido!\")\n",
        "\n",
        "    elif opcao == 3:\n",
        "        print(\"Seu saldo atual é: R$\", saldo)\n",
        "        print(\"Limite disponível: R$\", limite + saldo)\n",
        "\n",
        "    else:\n",
        "        print(\"Opção inválida.\")\n",
        "\n",
        "else:\n",
        "    print(\"Usuário ou senha incorretos. Tente novamente.\")"
      ],
      "metadata": {
        "colab": {
          "base_uri": "https://localhost:8080/"
        },
        "id": "M0oxAQcTL8vf",
        "outputId": "84658968-ce63-4338-a388-3af69b7edd4f"
      },
      "execution_count": 20,
      "outputs": [
        {
          "output_type": "stream",
          "name": "stdout",
          "text": [
            "Digite o nome de usuário: cliente\n",
            "Digite a senha: 123\n",
            "Usuário ou senha incorretos. Tente novamente.\n"
          ]
        }
      ]
    },
    {
      "cell_type": "code",
      "source": [
        "altura = float(input(\"Digite sua altura em metros: \"))\n",
        "idade = int(input(\"Digite sua idade: \"))\n",
        "\n",
        "if altura >= 1.75 and idade >= 18:\n",
        "    print(\"Você pode competir no campeonato de vôlei.\")\n",
        "else:\n",
        "    print(\"Você NÃO pode competir.\")"
      ],
      "metadata": {
        "colab": {
          "base_uri": "https://localhost:8080/"
        },
        "id": "TEK5mZXuMDUL",
        "outputId": "c31e04e8-b5a7-4277-dd47-1c9e56e29dc4"
      },
      "execution_count": 21,
      "outputs": [
        {
          "output_type": "stream",
          "name": "stdout",
          "text": [
            "Digite sua altura em metros: 180\n",
            "Digite sua idade: 17\n",
            "Você NÃO pode competir.\n"
          ]
        }
      ]
    },
    {
      "cell_type": "code",
      "source": [
        "peso = float(input(\"Digite seu peso em kg: \"))\n",
        "\n",
        "if peso < 52:\n",
        "    print(\"Categoria: Galo\")\n",
        "elif peso < 60:\n",
        "    print(\"Categoria: Pena\")\n",
        "elif peso < 75:\n",
        "    print(\"Categoria: Leve\")\n",
        "elif peso < 91:\n",
        "    print(\"Categoria: Meio-pesado\")\n",
        "else:\n",
        "    print(\"Categoria: Pesado\")"
      ],
      "metadata": {
        "colab": {
          "base_uri": "https://localhost:8080/"
        },
        "id": "h-XomQHhMHeY",
        "outputId": "416b2b42-255f-4f16-a4ee-84cfe61e7020"
      },
      "execution_count": 22,
      "outputs": [
        {
          "output_type": "stream",
          "name": "stdout",
          "text": [
            "Digite seu peso em kg: 80\n",
            "Categoria: Meio-pesado\n"
          ]
        }
      ]
    },
    {
      "cell_type": "code",
      "source": [
        "salario = float(input(\"Digite o salário do funcionário: \"))\n",
        "\n",
        "if salario <= 1500:\n",
        "    aumento = salario * 0.20\n",
        "elif salario <= 3000:\n",
        "    aumento = salario * 0.15\n",
        "else:\n",
        "    aumento = salario * 0.10\n",
        "\n",
        "novo_salario = salario + aumento\n",
        "\n",
        "print(\"Aumento: R$\", aumento)\n",
        "print(\"Novo salário: R$\", novo_salario)"
      ],
      "metadata": {
        "colab": {
          "base_uri": "https://localhost:8080/"
        },
        "id": "gvlOXwqfMMfV",
        "outputId": "8c3b56a6-c279-47aa-da23-0dc02962daff"
      },
      "execution_count": 23,
      "outputs": [
        {
          "output_type": "stream",
          "name": "stdout",
          "text": [
            "Digite o salário do funcionário: 2000\n",
            "Aumento: R$ 300.0\n",
            "Novo salário: R$ 2300.0\n"
          ]
        }
      ]
    },
    {
      "cell_type": "code",
      "source": [
        "peso = float(input(\"Digite o peso do pacote (em kg): \"))\n",
        "distancia = float(input(\"Digite a distância até o destino (em km): \"))\n",
        "\n",
        "if peso <= 2:\n",
        "    preco_por_100km = 5\n",
        "elif peso <= 5:\n",
        "    preco_por_100km = 8\n",
        "else:\n",
        "    preco_por_100km = 10\n",
        "\n",
        "blocos = distancia / 100\n",
        "frete = blocos * preco_por_100km\n",
        "\n",
        "print(\"Para um pacote de\", peso, \"kg viajando\", distancia, \"km, o valor do frete será R$\", frete)"
      ],
      "metadata": {
        "colab": {
          "base_uri": "https://localhost:8080/"
        },
        "id": "Jee1iT78MRFt",
        "outputId": "ba8da39d-dc63-4dc7-d624-a9b04a1d2b97"
      },
      "execution_count": 24,
      "outputs": [
        {
          "output_type": "stream",
          "name": "stdout",
          "text": [
            "Digite o peso do pacote (em kg): 50\n",
            "Digite a distância até o destino (em km): 150\n",
            "Para um pacote de 50.0 kg viajando 150.0 km, o valor do frete será R$ 15.0\n"
          ]
        }
      ]
    }
  ]
}