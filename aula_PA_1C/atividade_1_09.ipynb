{
  "nbformat": 4,
  "nbformat_minor": 0,
  "metadata": {
    "colab": {
      "provenance": [],
      "authorship_tag": "ABX9TyOKTzEeCqZc3pOtyEVLj96m",
      "include_colab_link": true
    },
    "kernelspec": {
      "name": "python3",
      "display_name": "Python 3"
    },
    "language_info": {
      "name": "python"
    }
  },
  "cells": [
    {
      "cell_type": "markdown",
      "metadata": {
        "id": "view-in-github",
        "colab_type": "text"
      },
      "source": [
        "<a href=\"https://colab.research.google.com/github/henriqueabatista/PA_python/blob/main/aula_PA_1C/atividade_1_09.ipynb\" target=\"_parent\"><img src=\"https://colab.research.google.com/assets/colab-badge.svg\" alt=\"Open In Colab\"/></a>"
      ]
    },
    {
      "cell_type": "markdown",
      "source": [
        "**Treino para avaliação**\n"
      ],
      "metadata": {
        "id": "r1xis54FtoqQ"
      }
    },
    {
      "cell_type": "markdown",
      "source": [
        "1- Números pares e ímpares em uma lista:\n",
        "\n",
        "*   O usuario digita uma sequencia de numeros separados por espaço;\n",
        "*   O programa transforma em lista de inteiros;\n",
        "*   Usando for, deve contar quantos são pares e quantos são impares\n",
        "\n",
        "\n",
        "\n"
      ],
      "metadata": {
        "id": "6kdX0BIkt2ck"
      }
    },
    {
      "cell_type": "code",
      "source": [
        "numeros = input(\"Digite uma sequencia de números: \")\n",
        "numero_lista = numeros.split( )\n",
        "numeros_inteiros = [int(numero) for numero in numero_lista]\n",
        "\n",
        "pares = 0\n",
        "impares = 0\n",
        "\n",
        "for numeros in numeros_inteiros:\n",
        "  if numeros %2 == 0:\n",
        "    pares += 1\n",
        "  else:\n",
        "    impares += 1\n",
        "\n",
        "print(\"numeros\", numeros_inteiros)\n",
        "print(\"Pares\", pares)\n",
        "print(\"Impares\", impares)"
      ],
      "metadata": {
        "colab": {
          "base_uri": "https://localhost:8080/"
        },
        "id": "gVN3UhSPvyBz",
        "outputId": "c5dd8e20-2439-4027-b3ba-c01894ad209b"
      },
      "execution_count": null,
      "outputs": [
        {
          "output_type": "stream",
          "name": "stdout",
          "text": [
            "Digite uma sequencia de números: 1 2 3 4 \n",
            "numeros [1, 2, 3, 4]\n",
            "Pares 2\n",
            "Impares 2\n"
          ]
        }
      ]
    },
    {
      "cell_type": "markdown",
      "source": [
        "2- Advinhar um número secreto:\n",
        "\n",
        "\n",
        "*   O programa escolhe um número secreto (ex.: 1 a 20)\n",
        "*   O usuario tenta advinhar\n",
        "*   Enquanto não acertar, o programa da dicas (maior, menor)\n",
        "*   Quando acertar o loop acaba"
      ],
      "metadata": {
        "id": "kvP_pN1tzF6U"
      }
    },
    {
      "cell_type": "code",
      "source": [
        "import random\n",
        "\n",
        "numero_secreto = random.randint(1, 25)\n",
        "\n",
        "print(\"Tente adivinhar o número secreto entre 1 e 2\")\n",
        "\n",
        "while True:\n",
        "    tentativa = int(input(\"Digite seu palpite: \"))\n",
        "\n",
        "    if tentativa == numero_secreto:\n",
        "        print(\"Você acertou o número secreto\")\n",
        "        break\n",
        "    elif tentativa < numero_secreto:\n",
        "        print(\"o número é maior\")\n",
        "    else:\n",
        "        print(\"o número é menor\")\n"
      ],
      "metadata": {
        "colab": {
          "base_uri": "https://localhost:8080/"
        },
        "id": "jnO1RoMtz7rp",
        "outputId": "1a02295c-7a9e-4fe3-ddbf-b3f3925cdd5f"
      },
      "execution_count": null,
      "outputs": [
        {
          "output_type": "stream",
          "name": "stdout",
          "text": [
            "Tente adivinhar o número secreto entre 1 e 2\n",
            "Digite seu palpite: 22\n",
            "o número é menor\n",
            "Digite seu palpite: 1\n",
            "o número é maior\n",
            "Digite seu palpite: 12\n",
            "o número é menor\n",
            "Digite seu palpite: 11\n",
            "o número é menor\n",
            "Digite seu palpite: 5\n",
            "o número é maior\n",
            "Digite seu palpite: 8\n",
            "o número é maior\n",
            "Digite seu palpite: 9\n",
            "Você acertou o número secreto\n"
          ]
        }
      ]
    },
    {
      "cell_type": "markdown",
      "source": [
        "3- Contar vogais em varias palavras:\n",
        "\n",
        "\n",
        "* O usuario digita uma lista de palavras (separadas por espaço)\n",
        "* O programa deve percorrer cada palavra usando FOR\n",
        "* Em cada palavra contar quantas vogais existem\n",
        "* Mostrar no final o total de vogais em cada palavra"
      ],
      "metadata": {
        "id": "8NlHxoOc1PlG"
      }
    },
    {
      "cell_type": "code",
      "source": [
        "\n",
        "entrada = input(\"Digite as palavras: \")\n",
        "\n",
        "palavras = entrada.split()\n",
        "\n",
        "vogais = \"aeiouAEIOU\"\n",
        "\n",
        "for palavra in palavras:\n",
        "    contador = 0\n",
        "\n",
        "    for letra in palavra:\n",
        "        if letra in vogais:\n",
        "            contador += 1\n",
        "    print(f\"A palavra '{palavra}' tem {contador} vogais.\")\n"
      ],
      "metadata": {
        "colab": {
          "base_uri": "https://localhost:8080/"
        },
        "id": "AqJ2Z7Zt2Hfv",
        "outputId": "905886e3-39fc-422a-c92e-c83be79a8a50"
      },
      "execution_count": null,
      "outputs": [
        {
          "output_type": "stream",
          "name": "stdout",
          "text": [
            "Digite as palavras: ronaldo\n",
            "A palavra 'ronaldo' tem 3 vogais.\n"
          ]
        }
      ]
    }
  ]
}