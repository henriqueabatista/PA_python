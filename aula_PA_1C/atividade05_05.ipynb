{
  "nbformat": 4,
  "nbformat_minor": 0,
  "metadata": {
    "colab": {
      "provenance": [],
      "authorship_tag": "ABX9TyO9l4lv97DClovm+11xrq9P",
      "include_colab_link": true
    },
    "kernelspec": {
      "name": "python3",
      "display_name": "Python 3"
    },
    "language_info": {
      "name": "python"
    }
  },
  "cells": [
    {
      "cell_type": "markdown",
      "metadata": {
        "id": "view-in-github",
        "colab_type": "text"
      },
      "source": [
        "<a href=\"https://colab.research.google.com/github/henriqueabatista/PA_python/blob/main/aula_PA_1C/atividade05_05.ipynb\" target=\"_parent\"><img src=\"https://colab.research.google.com/assets/colab-badge.svg\" alt=\"Open In Colab\"/></a>"
      ]
    },
    {
      "cell_type": "code",
      "execution_count": null,
      "metadata": {
        "colab": {
          "base_uri": "https://localhost:8080/"
        },
        "id": "Mw_54btcqC8K",
        "outputId": "c24e41ac-5c6f-4c07-8abd-d1e8146eb17e"
      },
      "outputs": [
        {
          "output_type": "stream",
          "name": "stdout",
          "text": [
            "Digite a idade da primeria pessoa:59\n",
            "Digite a idade da segunda pessoa:25\n",
            "True\n",
            "False\n",
            "a idade sera maior que a idade2? True\n"
          ]
        }
      ],
      "source": [
        "#Entrada\n",
        "idade = int(input(\"Digite a idade da primeria pessoa:\"))\n",
        "idade2 = int(input(\"Digite a idade da segunda pessoa:\"))\n",
        "\n",
        "##Processamento\n",
        "idade = (idade > idade2)\n",
        "print(idade)\n",
        "\n",
        "idade2 = (idade2 < idade)\n",
        "print(idade2)\n",
        "\n",
        "\n",
        "##Saida\n",
        "print(\"a idade sera maior que a idade2?\", idade)"
      ]
    },
    {
      "cell_type": "code",
      "source": [
        "#Entrada\n",
        "idade = int(input(\"digite sua idade:\"))\n",
        "senha = int(input(\"Digite a senha:\"))\n",
        "\n",
        "##Processamento\n",
        "pode= idade>=18 and senha==1234\n",
        "\n",
        "##Saida\n",
        "print(\"A pessoa consiguira acessar o sistema?\", pode)"
      ],
      "metadata": {
        "colab": {
          "base_uri": "https://localhost:8080/"
        },
        "id": "8HACLDaBt4hS",
        "outputId": "028a872c-4d7f-4d74-e2d8-0311b123f082"
      },
      "execution_count": null,
      "outputs": [
        {
          "output_type": "stream",
          "name": "stdout",
          "text": [
            "digite sua idade:20\n",
            "Digite a senha:2345\n",
            "A pessoa consiguira acessar o sistema? False\n"
          ]
        }
      ]
    },
    {
      "cell_type": "code",
      "source": [
        "#Entrada\n",
        "numero = int(input(\"digite o valor do numero:\"))\n",
        "\n",
        "##Processamento\n",
        "esta = numero<10 or numero>50\n",
        "\n",
        "##saida\n",
        "print(\"o numero nao esta entre 10 e 50?\", esta)\n",
        "\n"
      ],
      "metadata": {
        "colab": {
          "base_uri": "https://localhost:8080/"
        },
        "id": "eXTgzkX6wIm7",
        "outputId": "ca1d57c0-ab22-42f2-ecf3-7e93b2581f48"
      },
      "execution_count": 16,
      "outputs": [
        {
          "output_type": "stream",
          "name": "stdout",
          "text": [
            "digite o valor do numero:69\n",
            "o numero nao esta entre 10 e 50? True\n"
          ]
        }
      ]
    },
    {
      "cell_type": "code",
      "source": [
        "#Entrada\n",
        "preço = float(input(\"digite o preço:\"))\n",
        "saldo = float(input(\"digite o saldo:\"))\n",
        "digite = float(input(\"digite o cupom:\"))\n",
        "\n",
        "##Processamento\n",
        "pode= preço<=saldo\n",
        "print(pode)\n",
        "cupom=digite==1234 and preço>=saldo\n",
        "print(cupom)\n",
        "\n",
        "##Saida\n",
        "print(\"pode comprar com o saldo?\", pode)\n",
        "print(\"pode comprar com o cupom?\", cupom)"
      ],
      "metadata": {
        "id": "_OOazd4ZxhlD",
        "colab": {
          "base_uri": "https://localhost:8080/"
        },
        "outputId": "165670a6-2739-4b8d-c2b1-78a4ca6af996"
      },
      "execution_count": 22,
      "outputs": [
        {
          "output_type": "stream",
          "name": "stdout",
          "text": [
            "digite o preço:250\n",
            "digite o saldo:100\n",
            "digite o cupom:1234\n",
            "False\n",
            "True\n",
            "pode comprar com o saldo? False\n",
            "pode comprar com o cupom? True\n"
          ]
        }
      ]
    },
    {
      "cell_type": "code",
      "source": [
        "#entrada\n",
        "numero = int(input(\"digite o numero:\"))\n",
        "\n",
        "##processamento\n",
        "par=numero%2==0\n",
        "\n",
        "positivo= numero>0\n",
        "\n",
        "##Saida\n",
        "print(\"o numero é par?\", par)\n",
        "print(\"o numero é positivo\", positivo)"
      ],
      "metadata": {
        "colab": {
          "base_uri": "https://localhost:8080/"
        },
        "id": "0gPPbPhP7G3l",
        "outputId": "12416308-972b-42e1-d317-162836cd3b75"
      },
      "execution_count": 23,
      "outputs": [
        {
          "output_type": "stream",
          "name": "stdout",
          "text": [
            "digite o numero:123\n",
            "o numero é par? False\n",
            "o numero é positivo True\n"
          ]
        }
      ]
    },
    {
      "cell_type": "code",
      "source": [
        "#entrada\n",
        "idade = int(input(\"digite a idade:\"))\n",
        "\n",
        "##processamento\n",
        "idade= idade>13 and idade<17\n",
        "\n",
        "##saida\n",
        "print(\"a pessoa esta entre 13 e 17 anos?\", idade)"
      ],
      "metadata": {
        "colab": {
          "base_uri": "https://localhost:8080/"
        },
        "id": "n6n2jS0d75-z",
        "outputId": "13b8736a-2042-4188-cfeb-77604220a71f"
      },
      "execution_count": 27,
      "outputs": [
        {
          "output_type": "stream",
          "name": "stdout",
          "text": [
            "digite a idade:33\n",
            "a pessoa esta entre 13 e 17 anos? False\n"
          ]
        }
      ]
    },
    {
      "cell_type": "code",
      "source": [
        "#entrada\n",
        "adm = int(input(\"digite 3 se é adm:\"))\n",
        "senha = int(input(\"digite a senha:\"))\n",
        "\n",
        "##processamento\n",
        "senha= senha==12345\n",
        "adm= adm==3\n",
        "\n",
        "##saida\n",
        "print(\"a pessoa pode acessar?\", senha)"
      ],
      "metadata": {
        "colab": {
          "base_uri": "https://localhost:8080/"
        },
        "id": "K9hGhMgN8sfj",
        "outputId": "af0ab8ee-2a17-484f-d4da-b01bc2549782"
      },
      "execution_count": 32,
      "outputs": [
        {
          "output_type": "stream",
          "name": "stdout",
          "text": [
            "digite 3 se é adm:4\n",
            "digite a senha:67890\n",
            "a pessoa pode acessar? False\n"
          ]
        }
      ]
    },
    {
      "cell_type": "code",
      "source": [
        "#entrada\n",
        "nota = float(input(\"digite a nota:\"))\n",
        "presença = float(input(\"digite 10 se estiver ausente:\"))\n",
        "\n",
        "##processamento\n",
        "nota= nota>=6\n",
        "presença= presença==10\n",
        "\n",
        "##saida\n",
        "print(\"a pessoa sera aprovada?\", nota)"
      ],
      "metadata": {
        "colab": {
          "base_uri": "https://localhost:8080/"
        },
        "id": "ujvMfdqK-XuO",
        "outputId": "446c86ad-f9e0-47b0-ed2a-4ba0d1f72e67"
      },
      "execution_count": 36,
      "outputs": [
        {
          "output_type": "stream",
          "name": "stdout",
          "text": [
            "digite a nota:5.5\n",
            "digite 10 se estiver ausente:2\n",
            "a pessoa sera aprovada? False\n"
          ]
        }
      ]
    },
    {
      "cell_type": "code",
      "source": [
        "#entrada\n",
        "velocidade = float(input(\"digite a velocidade:\"))\n",
        "\n",
        "##processamento\n",
        "multa= velocidade>80\n",
        "\n",
        "##saida\n",
        "print(\"a pessoa sera multada?\", multa)"
      ],
      "metadata": {
        "colab": {
          "base_uri": "https://localhost:8080/"
        },
        "id": "N6Xh0u2T_mA0",
        "outputId": "2583f493-4ec8-4a08-c4b5-dd64a3025544"
      },
      "execution_count": 37,
      "outputs": [
        {
          "output_type": "stream",
          "name": "stdout",
          "text": [
            "digite a velocidade:60\n",
            "a pessoa sera multada? False\n"
          ]
        }
      ]
    },
    {
      "cell_type": "code",
      "source": [
        "#entrada\n",
        "idade = int(input(\"digite a idade:\"))\n",
        "convite = int(input(\"digite 2 se tiver convite\"))\n",
        "\n",
        "##processamento\n",
        "idade= idade>=18\n",
        "convite= convite==2\n",
        "\n",
        "##saida\n",
        "print(\"a pessoa podera entrar na festa?\", idade)"
      ],
      "metadata": {
        "colab": {
          "base_uri": "https://localhost:8080/"
        },
        "id": "hRni8CSUAORY",
        "outputId": "2eb5f188-8150-4fce-9ae6-14f6dfeaf29a"
      },
      "execution_count": 38,
      "outputs": [
        {
          "output_type": "stream",
          "name": "stdout",
          "text": [
            "digite a idade:17\n",
            "digite 2 se tiver convite2\n",
            "a pessoa podera entrar na festa? False\n"
          ]
        }
      ]
    }
  ]
}