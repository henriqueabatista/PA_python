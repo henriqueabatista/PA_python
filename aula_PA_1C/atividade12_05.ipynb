{
  "nbformat": 4,
  "nbformat_minor": 0,
  "metadata": {
    "colab": {
      "provenance": [],
      "authorship_tag": "ABX9TyPO/wjCHV3ujpFh6F9DxkQO",
      "include_colab_link": true
    },
    "kernelspec": {
      "name": "python3",
      "display_name": "Python 3"
    },
    "language_info": {
      "name": "python"
    }
  },
  "cells": [
    {
      "cell_type": "markdown",
      "metadata": {
        "id": "view-in-github",
        "colab_type": "text"
      },
      "source": [
        "<a href=\"https://colab.research.google.com/github/henriqueabatista/PA_python/blob/main/aula_PA_1C/atividade12_05.ipynb\" target=\"_parent\"><img src=\"https://colab.research.google.com/assets/colab-badge.svg\" alt=\"Open In Colab\"/></a>"
      ]
    },
    {
      "cell_type": "code",
      "execution_count": 5,
      "metadata": {
        "colab": {
          "base_uri": "https://localhost:8080/"
        },
        "id": "9GGQWMo43c9S",
        "outputId": "01f7d886-fc33-43c8-8e25-071f131eb6fa"
      },
      "outputs": [
        {
          "output_type": "stream",
          "name": "stdout",
          "text": [
            "Digite o ano: 2021\n",
            "Ano não bissexto\n"
          ]
        }
      ],
      "source": [
        "#Entrada\n",
        "ano = int(input(\"Digite o ano: \"))\n",
        "\n",
        "##Processamento\n",
        "if ano % 4 == 0 and ano % 100!= 0 or ano % 400 == 0:\n",
        "  print(\"Ano bissexto\")\n",
        "\n",
        "else:\n",
        "  print(\"Ano não bissexto\")"
      ]
    },
    {
      "cell_type": "code",
      "source": [
        "#entrada\n",
        "idade = int(input(\"Digite a idade: \"))\n",
        "\n",
        "##processamento\n",
        "if idade >= 0 and idade <= 17:\n",
        "  print(\"Menor de idade\")\n",
        "\n",
        "else:\n",
        "  print(\"Maior de idade\")"
      ],
      "metadata": {
        "colab": {
          "base_uri": "https://localhost:8080/"
        },
        "id": "wRjgEy1o6pPE",
        "outputId": "9d242b0c-1bf9-48fb-a59c-911743f909ea"
      },
      "execution_count": 18,
      "outputs": [
        {
          "output_type": "stream",
          "name": "stdout",
          "text": [
            "Digite a idade: 15\n",
            "Menor de idade\n"
          ]
        }
      ]
    },
    {
      "cell_type": "code",
      "source": [
        "#entrada\n",
        "número = int(input(\"Digite o número: \"))\n",
        "\n",
        "##processamento\n",
        "if número >= 0 and número <= 20:\n",
        "  print(\"Faz parte do primeiro grupo\")\n",
        "\n",
        "else:\n",
        "  print(\"Faz parte do segundo grupo\")"
      ],
      "metadata": {
        "colab": {
          "base_uri": "https://localhost:8080/"
        },
        "id": "MOg-_pE78m3X",
        "outputId": "bd2358b8-9cb1-4377-873a-80f08a0bf0de"
      },
      "execution_count": 20,
      "outputs": [
        {
          "output_type": "stream",
          "name": "stdout",
          "text": [
            "Digite o número: 11\n",
            "Faz parte do primeiro grupo\n"
          ]
        }
      ]
    },
    {
      "cell_type": "code",
      "source": [
        "#entrada\n",
        "idade = int(input(\"Digite a idade: \"))\n",
        "\n",
        "##processamento\n",
        "if idade >= 0 and idade <= 12:\n",
        "  print(\"é criança\")\n",
        "\n",
        "elif idade >= 13 and idade <= 17:\n",
        "  print(\"é adolescente\")\n",
        "\n",
        "elif idade <0:\n",
        "  print(\"não existe\")\n",
        "\n",
        "else:\n",
        "  print(\"é adulto\")"
      ],
      "metadata": {
        "colab": {
          "base_uri": "https://localhost:8080/"
        },
        "id": "Qtl5oIlv_z7W",
        "outputId": "504c7c22-e440-4929-c92a-90781e16b299"
      },
      "execution_count": 22,
      "outputs": [
        {
          "output_type": "stream",
          "name": "stdout",
          "text": [
            "Digite a idade: -12\n",
            "não existe\n"
          ]
        }
      ]
    },
    {
      "cell_type": "code",
      "source": [
        "#entrada\n",
        "valor = int(input(\"Digite o valor: \"))\n",
        "\n",
        "##processamento\n",
        "if valor %2 == 0:\n",
        "  print(\"Par\")\n",
        "\n",
        "else:\n",
        "  print(\"impar\")"
      ],
      "metadata": {
        "colab": {
          "base_uri": "https://localhost:8080/"
        },
        "id": "LKsb8flmBF8E",
        "outputId": "4c8dabae-130d-4fa4-fcf1-a21cd544c400"
      },
      "execution_count": 24,
      "outputs": [
        {
          "output_type": "stream",
          "name": "stdout",
          "text": [
            "Digite o valor: 31\n",
            "impar\n"
          ]
        }
      ]
    },
    {
      "cell_type": "code",
      "source": [
        "#entrada\n",
        "l1 = int(input(\"Digite o lado do l1: \"))\n",
        "l2 = int(input(\"Digite o lado do l2: \"))\n",
        "l3 = int(input(\"Digite o lado do l3: \"))\n",
        "\n",
        "##processamento\n",
        "if l1+l2>l3 and l2+l3>l1 and l3+l1>l2:\n",
        "  print(\"Triangulo\")\n",
        "\n",
        "elif l1==l2==l3:\n",
        "  print(\"equilatero\")\n",
        "\n",
        "elif l1!= l2 !=l3:\n",
        "  print(\"escaleno\")\n",
        "\n",
        "else:\n",
        "  print(\"isosceles\")"
      ],
      "metadata": {
        "colab": {
          "base_uri": "https://localhost:8080/"
        },
        "id": "LlHjJonNBhnK",
        "outputId": "7e773311-213f-406c-a337-7349d455f3c4"
      },
      "execution_count": 30,
      "outputs": [
        {
          "output_type": "stream",
          "name": "stdout",
          "text": [
            "Digite o lado do l1: 1\n",
            "Digite o lado do l2: 1\n",
            "Digite o lado do l3: 1\n",
            "Triangulo\n"
          ]
        }
      ]
    },
    {
      "cell_type": "code",
      "source": [
        "#entrada\n",
        "peso = int(input(\"digite o peso em kg: \"))\n",
        "altura = int(input(\"digite a altura em cm: \"))\n",
        "\n",
        "##processamento\n",
        "imc = peso/altura**2\n",
        "\n",
        "if imc <= 18.5:\n",
        "  print(\"abaixo do peso\")\n",
        "\n",
        "elif imc >= 18.5 and imc <= 24.9:\n",
        "  print(\"peso normal\")\n",
        "\n",
        "elif imc >= 25 and imc <= 29.9:\n",
        "  print(\"sobrepeso\")\n",
        "\n",
        "elif imc >= 30 and imc  <= 34.9:\n",
        "  print(\"obesidade 1\")\n",
        "\n",
        "elif imc >= 35 and imc <= 39.9:\n",
        "  print(\"obesidade 2\")\n",
        "\n",
        "else:\n",
        "  print(\"obesidade 3\")\n"
      ],
      "metadata": {
        "colab": {
          "base_uri": "https://localhost:8080/"
        },
        "id": "K0M_7YVpDkf1",
        "outputId": "6c35be15-9ad3-417a-9153-06a5bad78e89"
      },
      "execution_count": 48,
      "outputs": [
        {
          "output_type": "stream",
          "name": "stdout",
          "text": [
            "digite o peso em kg: 75\n",
            "digite a altura em cm: 170\n",
            "abaixo do peso\n"
          ]
        }
      ]
    },
    {
      "cell_type": "code",
      "source": [
        "#entrada\n",
        "idade = int(input(\"Digite a idade: \"))\n",
        "altura = int(input(\"Digite a altura em cm: \"))\n",
        "\n",
        "##processamento\n",
        "\n",
        "if idade >= 18 and altura >= 1.75:\n",
        "  print(\"pode competir\")\n",
        "\n",
        "else:\n",
        "  print(\"não pode competir\")"
      ],
      "metadata": {
        "colab": {
          "base_uri": "https://localhost:8080/"
        },
        "id": "Ve0By69eIO1U",
        "outputId": "3857e380-15cc-4fde-fa2f-0ea8b5d5c54e"
      },
      "execution_count": 50,
      "outputs": [
        {
          "output_type": "stream",
          "name": "stdout",
          "text": [
            "Digite a idade: 17\n",
            "Digite a altura em cm: 180\n",
            "não pode competir\n"
          ]
        }
      ]
    },
    {
      "cell_type": "code",
      "source": [
        "#entrada\n",
        "emprestimo = int(input(\"digite o valor do emprestimo:\"))\n",
        "salario = int(input(\"digite o valor so salario: \"))\n",
        "parcelas = int(input(\"digite as parcelas: \"))\n",
        "\n",
        "##processamento\n",
        "salario*0.3\n",
        "emprestimo/parcelas\n",
        "\n",
        "if salario*0.3 >= emprestimo/parcelas:\n",
        "  print(\"pode fazer o emprestimo\")\n",
        "\n",
        "else:\n",
        "  print(\"não pode fazer o emprestimo\")"
      ],
      "metadata": {
        "colab": {
          "base_uri": "https://localhost:8080/"
        },
        "id": "fO-HiTSJI_h5",
        "outputId": "5c6383e1-bcba-468c-cead-17b996700a74"
      },
      "execution_count": 54,
      "outputs": [
        {
          "output_type": "stream",
          "name": "stdout",
          "text": [
            "digite o valor do emprestimo:800\n",
            "digite o valor so salario: 1500\n",
            "digite as parcelas: 3\n",
            "pode fazer o emprestimo\n"
          ]
        }
      ]
    }
  ]
}