{
  "nbformat": 4,
  "nbformat_minor": 0,
  "metadata": {
    "colab": {
      "provenance": [],
      "authorship_tag": "ABX9TyNoxI+tQPMCg2KWjwbUxUBw",
      "include_colab_link": true
    },
    "kernelspec": {
      "name": "python3",
      "display_name": "Python 3"
    },
    "language_info": {
      "name": "python"
    }
  },
  "cells": [
    {
      "cell_type": "markdown",
      "metadata": {
        "id": "view-in-github",
        "colab_type": "text"
      },
      "source": [
        "<a href=\"https://colab.research.google.com/github/henriqueabatista/PA_python/blob/main/aula_PA_1C/operadores_e_variaveis.ipynb\" target=\"_parent\"><img src=\"https://colab.research.google.com/assets/colab-badge.svg\" alt=\"Open In Colab\"/></a>"
      ]
    },
    {
      "cell_type": "code",
      "execution_count": 3,
      "metadata": {
        "colab": {
          "base_uri": "https://localhost:8080/"
        },
        "id": "Fx3hI3L2X616",
        "outputId": "db3eeefc-108a-4430-afd1-a6030f131c69"
      },
      "outputs": [
        {
          "output_type": "stream",
          "name": "stdout",
          "text": [
            "nota da primeira prova10\n",
            "nota da segunda prova7\n",
            "a média das provas é 8.5\n"
          ]
        }
      ],
      "source": [
        "#Entrada\n",
        "P1 = float(input('nota da primeira prova'))\n",
        "P2 = float(input('nota da segunda prova'))\n",
        "\n",
        "##Processamento\n",
        "area = (P1 + P2)/2\n",
        "\n",
        "##Saida\n",
        "print ('a média das provas é', area)"
      ]
    },
    {
      "cell_type": "code",
      "source": [
        "#Entrada\n",
        "C = float(input('digite a temperatura em C'))\n",
        "\n",
        "##Processamento\n",
        "Fahrenheit = (C * 1.8) + 32\n",
        "\n",
        "##Saida\n",
        "print ('a temperatura em Fahrenheit é igual a', Fahrenheit)"
      ],
      "metadata": {
        "colab": {
          "base_uri": "https://localhost:8080/"
        },
        "id": "jTY76crHa010",
        "outputId": "282d475b-ba94-4cee-8e5e-268544683aad"
      },
      "execution_count": 8,
      "outputs": [
        {
          "output_type": "stream",
          "name": "stdout",
          "text": [
            "digite a temperatura em C25\n",
            "a temperatura em Fahrenheit é igual a 77.0\n"
          ]
        }
      ]
    },
    {
      "cell_type": "code",
      "source": [
        "#Entrada\n",
        "F = float(input('digite a temperatura em F'))\n",
        "\n",
        "##Processamento\n",
        "Celsius = (F - 32)/1.8\n",
        "\n",
        "##Saida\n",
        "print ('a temperatura em Celsius é igual a', Celsius)"
      ],
      "metadata": {
        "colab": {
          "base_uri": "https://localhost:8080/"
        },
        "id": "oUCKbzB_eQnb",
        "outputId": "9aeb5a88-0e8d-4922-abbf-ffcdbd96ae9e"
      },
      "execution_count": 9,
      "outputs": [
        {
          "output_type": "stream",
          "name": "stdout",
          "text": [
            "digite a temperatura em F77\n",
            "a temperatura em Celsius é igual a 25.0\n"
          ]
        }
      ]
    },
    {
      "cell_type": "code",
      "source": [
        "#Entrada\n",
        "valor = float(input('valor do produto'))\n",
        "qtde = float(input('quantidade de produtos'))\n",
        "\n",
        "##processamento\n",
        "VT = qtde * valor\n",
        "\n",
        "##Saida\n",
        "print ('o valor total sera igual a', VT)"
      ],
      "metadata": {
        "colab": {
          "base_uri": "https://localhost:8080/"
        },
        "id": "nu6z_ul2jy_h",
        "outputId": "316955c9-7029-404c-e8bc-d78753fa9cc0"
      },
      "execution_count": 10,
      "outputs": [
        {
          "output_type": "stream",
          "name": "stdout",
          "text": [
            "valor do produto5.5\n",
            "quantidade de produtos3\n",
            "o valor total sera igual a 16.5\n"
          ]
        }
      ]
    }
  ]
}