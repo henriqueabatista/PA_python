{
  "nbformat": 4,
  "nbformat_minor": 0,
  "metadata": {
    "colab": {
      "provenance": [],
      "include_colab_link": true
    },
    "kernelspec": {
      "name": "python3",
      "display_name": "Python 3"
    },
    "language_info": {
      "name": "python"
    }
  },
  "cells": [
    {
      "cell_type": "markdown",
      "metadata": {
        "id": "view-in-github",
        "colab_type": "text"
      },
      "source": [
        "<a href=\"https://colab.research.google.com/github/henriqueabatista/PA_python/blob/main/aula_PA_1C/C%C3%B3pia_de_atividades_aula_22_08.ipynb\" target=\"_parent\"><img src=\"https://colab.research.google.com/assets/colab-badge.svg\" alt=\"Open In Colab\"/></a>"
      ]
    },
    {
      "cell_type": "markdown",
      "source": [
        "**Exercícios com for, while, listas, strings e dicionários**"
      ],
      "metadata": {
        "id": "5KtSL9tuj-zo"
      }
    },
    {
      "cell_type": "markdown",
      "source": [
        "1) Soma dos números de uma lista\n",
        "\n",
        "Dada a lista numeros = [3, 7, 2, 8, 10], use um for para calcular a soma de todos os elementos."
      ],
      "metadata": {
        "id": "ZZZicFxfkEEg"
      }
    },
    {
      "cell_type": "code",
      "source": [
        "soma=0\n",
        "numeros = [3, 7, 2, 8, 10]\n",
        "for i in numeros:\n",
        "  soma+=i\n",
        "print(soma)"
      ],
      "metadata": {
        "colab": {
          "base_uri": "https://localhost:8080/"
        },
        "id": "EtrDsuQcbp5p",
        "outputId": "54371239-f772-440e-84ba-ec5dc5f2ab94"
      },
      "execution_count": 5,
      "outputs": [
        {
          "output_type": "stream",
          "name": "stdout",
          "text": [
            "30\n"
          ]
        }
      ]
    },
    {
      "cell_type": "markdown",
      "source": [
        "2) Contagem de vogais em uma string\n",
        "\n",
        "Peça uma palavra ao usuário e use um for para contar quantas vogais (a, e, i, o, u) existem."
      ],
      "metadata": {
        "id": "Xw8gph7LkL6R"
      }
    },
    {
      "cell_type": "code",
      "source": [
        "\n",
        "palavra = input(\"Digite uma palavra: \")\n",
        "\n",
        "\n",
        "vogais = \"aeiouAEIOU\"\n",
        "\n",
        "\n",
        "contador = 0\n",
        "\n",
        "\n",
        "for letra in palavra:\n",
        "    if letra in vogais:\n",
        "        contador += 1\n",
        "\n",
        "\n",
        "print(f\"A palavra '{palavra}' tem {contador} vogais.\")\n"
      ],
      "metadata": {
        "colab": {
          "base_uri": "https://localhost:8080/"
        },
        "id": "sgTg10CmcWby",
        "outputId": "cd4a6b19-bfa1-4cd9-fa0f-5b0557afd908"
      },
      "execution_count": 8,
      "outputs": [
        {
          "output_type": "stream",
          "name": "stdout",
          "text": [
            "Digite uma palavra: artur\n",
            "A palavra 'artur' tem 2 vogais.\n"
          ]
        }
      ]
    },
    {
      "cell_type": "markdown",
      "source": [],
      "metadata": {
        "id": "irD2xL3xkSDN"
      }
    },
    {
      "cell_type": "markdown",
      "source": [
        "3) Inverter lista usando while\n",
        "\n",
        "Dada a lista nomes = [\"Ana\", \"João\", \"Carlos\", \"Maria\"], use um while para inverter a ordem dos elementos (sem usar reverse() ou slicing)."
      ],
      "metadata": {
        "id": "YfW4Aw8ckZw-"
      }
    },
    {
      "cell_type": "code",
      "source": [
        "nomes = [\"Ana\", \"João\", \"Carlos\", \"Maria\"]\n",
        "\n",
        "\n",
        "i = 0\n",
        "j = len(nomes) - 1\n",
        "\n",
        "while i < j:\n",
        "    nomes[i], nomes[j] = nomes[j], nomes[i]\n",
        "    i += 1\n",
        "    j -= 1\n",
        "\n",
        "print(nomes)\n"
      ],
      "metadata": {
        "colab": {
          "base_uri": "https://localhost:8080/"
        },
        "id": "dP2bE2lFc_7J",
        "outputId": "9c24ef46-daba-4dce-ec31-5a5eb3584105"
      },
      "execution_count": 9,
      "outputs": [
        {
          "output_type": "stream",
          "name": "stdout",
          "text": [
            "['Maria', 'Carlos', 'João', 'Ana']\n"
          ]
        }
      ]
    },
    {
      "cell_type": "markdown",
      "source": [
        "4) Maior número em uma lista\n",
        "\n",
        "Escreva um programa que percorra uma lista de inteiros e encontre o maior valor."
      ],
      "metadata": {
        "id": "cvRuv0PxkkYi"
      }
    },
    {
      "cell_type": "code",
      "source": [
        "\n",
        "numeros = [10, 25, 7, 99, 48, 65]\n",
        "\n",
        "\n",
        "maior = numeros[0]\n",
        "\n",
        "\n",
        "for num in numeros:\n",
        "    if num > maior:\n",
        "        maior = num\n",
        "\n",
        "print(\"O maior número da lista é:\", maior)\n"
      ],
      "metadata": {
        "colab": {
          "base_uri": "https://localhost:8080/"
        },
        "id": "vCuBgRnzdIr_",
        "outputId": "84ebf2aa-e78b-4dd1-b510-989f8b8fe348"
      },
      "execution_count": 10,
      "outputs": [
        {
          "output_type": "stream",
          "name": "stdout",
          "text": [
            "O maior número da lista é: 99\n"
          ]
        }
      ]
    },
    {
      "cell_type": "markdown",
      "source": [
        "5) Remover elementos repetidos de uma lista\n",
        "\n",
        "Usando um for, percorra a lista valores = [1, 2, 2, 3, 4, 4, 5] e crie uma nova lista apenas com elementos únicos."
      ],
      "metadata": {
        "id": "xV6pmOVCkuCm"
      }
    },
    {
      "cell_type": "code",
      "source": [
        "valores = [1, 2, 2, 3, 4, 4, 5]\n",
        "unicos = []\n",
        "\n",
        "for v in valores:\n",
        "    if v not in unicos:\n",
        "        unicos.append(v)\n",
        "\n",
        "print(\"Lista original:\", valores)\n",
        "print(\"Lista sem repetidos:\", unicos)\n"
      ],
      "metadata": {
        "colab": {
          "base_uri": "https://localhost:8080/"
        },
        "id": "32y4RLQqdMRx",
        "outputId": "f0d30a7b-a3e6-44fe-9ad4-c01b6f631fbb"
      },
      "execution_count": 11,
      "outputs": [
        {
          "output_type": "stream",
          "name": "stdout",
          "text": [
            "Lista original: [1, 2, 2, 3, 4, 4, 5]\n",
            "Lista sem repetidos: [1, 2, 3, 4, 5]\n"
          ]
        }
      ]
    },
    {
      "cell_type": "markdown",
      "source": [
        "6) Verificar se palavra é palíndromo\n",
        "\n",
        "Peça uma palavra ao usuário e use while ou for para verificar se ela é igual de frente para trás (ex.: \"arara\")."
      ],
      "metadata": {
        "id": "_bHj-pkzk2TX"
      }
    },
    {
      "cell_type": "code",
      "source": [
        "\n",
        "palavra = input(\"Digite uma palavra: \")\n",
        "\n",
        "\n",
        "i = 0\n",
        "j = len(palavra) - 1\n",
        "palindromo = True\n",
        "\n",
        "\n",
        "while i < j:\n",
        "    if palavra[i] != palavra[j]:\n",
        "        palindromo = False\n",
        "        break\n",
        "    i += 1\n",
        "    j -= 1\n",
        "\n",
        "\n",
        "if palindromo:\n",
        "    print(f\"'{palavra}' é um palíndromo!\")\n",
        "else:\n",
        "    print(f\"'{palavra}' não é um palíndromo.\")\n"
      ],
      "metadata": {
        "colab": {
          "base_uri": "https://localhost:8080/"
        },
        "id": "zsgwrfjjdUoN",
        "outputId": "69ed04e4-c869-4a37-ecf0-6c41da329f60"
      },
      "execution_count": 12,
      "outputs": [
        {
          "output_type": "stream",
          "name": "stdout",
          "text": [
            "Digite uma palavra: bernardo\n",
            "'bernardo' não é um palíndromo.\n"
          ]
        }
      ]
    },
    {
      "cell_type": "markdown",
      "source": [
        "7 Contagem regressiva com while\n",
        "\n",
        "Peça ao usuário um número e faça uma contagem regressiva até 0."
      ],
      "metadata": {
        "id": "1PeOPJ3ClC0c"
      }
    },
    {
      "cell_type": "code",
      "source": [
        "\n",
        "num = int(input(\"Digite um número para a contagem regressiva: \"))\n",
        "\n",
        "\n",
        "while num >= 0:\n",
        "    print(num)\n",
        "    num -= 1\n"
      ],
      "metadata": {
        "colab": {
          "base_uri": "https://localhost:8080/"
        },
        "id": "bnwNF8utdgJV",
        "outputId": "d43e8a43-0efa-4d7d-f8d7-4d57e47bb963"
      },
      "execution_count": 14,
      "outputs": [
        {
          "output_type": "stream",
          "name": "stdout",
          "text": [
            "Digite um número para a contagem regressiva: 8\n",
            "8\n",
            "7\n",
            "6\n",
            "5\n",
            "4\n",
            "3\n",
            "2\n",
            "1\n",
            "0\n"
          ]
        }
      ]
    },
    {
      "cell_type": "markdown",
      "source": [
        "8) Percorrendo um dicionário de notas\n",
        "\n",
        "Dado o dicionário notas = {\"Ana\": 8, \"Carlos\": 7, \"Maria\": 10}, use um for para exibir cada aluno com sua nota."
      ],
      "metadata": {
        "id": "wKkDTzwelK_f"
      }
    },
    {
      "cell_type": "code",
      "source": [
        "notas = {\"Ana\": 8, \"Carlos\": 7, \"Maria\": 10}\n",
        "\n",
        "for aluno, nota in notas.items():\n",
        "    print(f\"{aluno} tirou nota {nota}\")\n"
      ],
      "metadata": {
        "colab": {
          "base_uri": "https://localhost:8080/"
        },
        "id": "FLEsYylBdqZR",
        "outputId": "6dd2811f-4464-467b-e506-06a7843b9823"
      },
      "execution_count": 15,
      "outputs": [
        {
          "output_type": "stream",
          "name": "stdout",
          "text": [
            "Ana tirou nota 8\n",
            "Carlos tirou nota 7\n",
            "Maria tirou nota 10\n"
          ]
        }
      ]
    },
    {
      "cell_type": "markdown",
      "source": [
        "9)Filtrar números pares de uma lista\n",
        "\n",
        "Dada a lista numeros = [10, 21, 32, 43, 54], use um for para criar uma nova lista contendo apenas os pares."
      ],
      "metadata": {
        "id": "xrXKbCl7lUQg"
      }
    },
    {
      "cell_type": "code",
      "source": [
        "numeros = [10, 21, 32, 43, 54]\n",
        "pares = []\n",
        "\n",
        "for n in numeros:\n",
        "    if n % 2 == 0:\n",
        "        pares.append(n)\n",
        "\n",
        "print(\"Lista original:\", numeros)\n",
        "print(\"Números pares:\", pares)\n",
        "\n"
      ],
      "metadata": {
        "colab": {
          "base_uri": "https://localhost:8080/"
        },
        "id": "naqtfHdidx7u",
        "outputId": "5a343209-a348-40af-d606-4065f55d3591"
      },
      "execution_count": 16,
      "outputs": [
        {
          "output_type": "stream",
          "name": "stdout",
          "text": [
            "Lista original: [10, 21, 32, 43, 54]\n",
            "Números pares: [10, 32, 54]\n"
          ]
        }
      ]
    },
    {
      "cell_type": "markdown",
      "source": [
        "10) Contador de palavras em uma frase\n",
        "\n",
        "Peça ao usuário uma frase, divida em palavras (split()) e use um dicionário para contar quantas vezes cada palavra aparece."
      ],
      "metadata": {
        "id": "9pzoi0GxlcO8"
      }
    },
    {
      "cell_type": "code",
      "source": [
        "\n",
        "\n",
        "frase = input(\"Digite uma frase: \")\n",
        "\n",
        "\n",
        "palavras = frase.split()\n",
        "\n",
        "\n",
        "contagem = {}\n",
        "\n",
        "\n",
        "for p in palavras:\n",
        "    if p in contagem:\n",
        "        contagem[p] += 1\n",
        "    else:\n",
        "        contagem[p] = 1\n",
        "\n",
        "\n",
        "print(\"Contagem de palavras:\")\n",
        "for palavra, qtd in contagem.items():\n",
        "    print(f\"{palavra}: {qtd}\")\n"
      ],
      "metadata": {
        "colab": {
          "base_uri": "https://localhost:8080/"
        },
        "id": "mG96ZeyyeAF9",
        "outputId": "ec2ec862-b3bc-4242-f2d5-c89221ae7151"
      },
      "execution_count": 18,
      "outputs": [
        {
          "output_type": "stream",
          "name": "stdout",
          "text": [
            "Digite uma frase: nigga niga nigga\n",
            "Contagem de palavras:\n",
            "nigga: 2\n",
            "niga: 1\n"
          ]
        }
      ]
    }
  ]
}