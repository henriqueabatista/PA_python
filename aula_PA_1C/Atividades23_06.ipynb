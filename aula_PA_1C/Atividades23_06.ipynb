{
  "nbformat": 4,
  "nbformat_minor": 0,
  "metadata": {
    "colab": {
      "provenance": [],
      "authorship_tag": "ABX9TyN7Gi9gl/le2YwrMdDE5WQ+",
      "include_colab_link": true
    },
    "kernelspec": {
      "name": "python3",
      "display_name": "Python 3"
    },
    "language_info": {
      "name": "python"
    }
  },
  "cells": [
    {
      "cell_type": "markdown",
      "metadata": {
        "id": "view-in-github",
        "colab_type": "text"
      },
      "source": [
        "<a href=\"https://colab.research.google.com/github/henriqueabatista/PA_python/blob/main/aula_PA_1C/Atividades23_06.ipynb\" target=\"_parent\"><img src=\"https://colab.research.google.com/assets/colab-badge.svg\" alt=\"Open In Colab\"/></a>"
      ]
    },
    {
      "cell_type": "code",
      "execution_count": 57,
      "metadata": {
        "id": "Tw_DzIt3D6Id"
      },
      "outputs": [],
      "source": [
        "nomes = [\"Turzete\", \"Kauã\", \"Be\", \"Pipi\"]"
      ]
    },
    {
      "cell_type": "code",
      "source": [
        "print (nomes)"
      ],
      "metadata": {
        "colab": {
          "base_uri": "https://localhost:8080/"
        },
        "id": "6mbpTmHbEHKo",
        "outputId": "089ac4b8-ab5e-4498-f58b-fba0b2572aab"
      },
      "execution_count": 58,
      "outputs": [
        {
          "output_type": "stream",
          "name": "stdout",
          "text": [
            "['Turzete', 'Kauã', 'Be', 'Pipi']\n"
          ]
        }
      ]
    },
    {
      "cell_type": "code",
      "source": [
        "nomes.append(\"Henrique\")"
      ],
      "metadata": {
        "id": "cDDCkoZVESB1"
      },
      "execution_count": 59,
      "outputs": []
    },
    {
      "cell_type": "code",
      "source": [
        "print (nomes)"
      ],
      "metadata": {
        "colab": {
          "base_uri": "https://localhost:8080/"
        },
        "id": "Sp7iAu7XElEW",
        "outputId": "d84460d1-5462-4628-c50c-392418e7189d"
      },
      "execution_count": 60,
      "outputs": [
        {
          "output_type": "stream",
          "name": "stdout",
          "text": [
            "['Turzete', 'Kauã', 'Be', 'Pipi', 'Henrique']\n"
          ]
        }
      ]
    },
    {
      "cell_type": "code",
      "source": [
        "print (nomes[3])"
      ],
      "metadata": {
        "colab": {
          "base_uri": "https://localhost:8080/"
        },
        "id": "uaWZoR4_FJxQ",
        "outputId": "10fac059-e21a-4263-c556-a6c886954049"
      },
      "execution_count": 61,
      "outputs": [
        {
          "output_type": "stream",
          "name": "stdout",
          "text": [
            "Pipi\n"
          ]
        }
      ]
    },
    {
      "cell_type": "code",
      "source": [
        "nomes.remove (\"Be\")"
      ],
      "metadata": {
        "id": "wRXMkqxKFkW3"
      },
      "execution_count": 62,
      "outputs": []
    },
    {
      "cell_type": "code",
      "source": [
        "print (nomes)"
      ],
      "metadata": {
        "colab": {
          "base_uri": "https://localhost:8080/"
        },
        "id": "UBDTwP7gFuKA",
        "outputId": "b84c76b6-b007-41e0-99c6-86196ca0d083"
      },
      "execution_count": 63,
      "outputs": [
        {
          "output_type": "stream",
          "name": "stdout",
          "text": [
            "['Turzete', 'Kauã', 'Pipi', 'Henrique']\n"
          ]
        }
      ]
    },
    {
      "cell_type": "code",
      "source": [
        "nomes.pop(1)"
      ],
      "metadata": {
        "colab": {
          "base_uri": "https://localhost:8080/",
          "height": 35
        },
        "id": "DdeSDHBsF0uV",
        "outputId": "16c71639-db61-423d-baa8-635636022c4e"
      },
      "execution_count": 64,
      "outputs": [
        {
          "output_type": "execute_result",
          "data": {
            "text/plain": [
              "'Kauã'"
            ],
            "application/vnd.google.colaboratory.intrinsic+json": {
              "type": "string"
            }
          },
          "metadata": {},
          "execution_count": 64
        }
      ]
    },
    {
      "cell_type": "code",
      "source": [
        "print (nomes)"
      ],
      "metadata": {
        "colab": {
          "base_uri": "https://localhost:8080/"
        },
        "id": "PtH5qaQSGCEg",
        "outputId": "67d10374-cecf-4e72-fdfb-2fb70b3b724a"
      },
      "execution_count": 65,
      "outputs": [
        {
          "output_type": "stream",
          "name": "stdout",
          "text": [
            "['Turzete', 'Pipi', 'Henrique']\n"
          ]
        }
      ]
    },
    {
      "cell_type": "code",
      "source": [
        "frutas = (\"banana\", \"pera\", \"morango\")"
      ],
      "metadata": {
        "id": "x0wLRgnHGMoN"
      },
      "execution_count": 25,
      "outputs": []
    },
    {
      "cell_type": "code",
      "source": [
        "print (frutas)"
      ],
      "metadata": {
        "colab": {
          "base_uri": "https://localhost:8080/"
        },
        "id": "9qn5BGXvGWFf",
        "outputId": "9050963f-053c-4919-956e-c4c905f6cbfb"
      },
      "execution_count": 26,
      "outputs": [
        {
          "output_type": "stream",
          "name": "stdout",
          "text": [
            "('banana', 'pera', 'morango')\n"
          ]
        }
      ]
    },
    {
      "cell_type": "code",
      "source": [
        "for i in range (5):\n",
        "  print (i)"
      ],
      "metadata": {
        "colab": {
          "base_uri": "https://localhost:8080/"
        },
        "id": "24pf3oejG8LN",
        "outputId": "0f57619e-9654-409b-c838-59b1fd4fc184"
      },
      "execution_count": 29,
      "outputs": [
        {
          "output_type": "stream",
          "name": "stdout",
          "text": [
            "0\n",
            "1\n",
            "2\n",
            "3\n",
            "4\n"
          ]
        }
      ]
    },
    {
      "cell_type": "code",
      "source": [
        "for nomes in nomes:\n",
        "  print (nomes)"
      ],
      "metadata": {
        "colab": {
          "base_uri": "https://localhost:8080/"
        },
        "id": "KCiY_rSlHdNn",
        "outputId": "78531d99-f085-41a4-921a-14b72ee956d8"
      },
      "execution_count": 66,
      "outputs": [
        {
          "output_type": "stream",
          "name": "stdout",
          "text": [
            "Turzete\n",
            "Pipi\n",
            "Henrique\n"
          ]
        }
      ]
    },
    {
      "cell_type": "code",
      "source": [
        "for nomes in \"Pipi\":\n",
        "  print (nomes)"
      ],
      "metadata": {
        "colab": {
          "base_uri": "https://localhost:8080/"
        },
        "id": "sNoatu0mIUMU",
        "outputId": "f66e855d-5c75-4bb0-8acf-0e5969a5535d"
      },
      "execution_count": 68,
      "outputs": [
        {
          "output_type": "stream",
          "name": "stdout",
          "text": [
            "P\n",
            "i\n",
            "p\n",
            "i\n"
          ]
        }
      ]
    },
    {
      "cell_type": "code",
      "source": [
        "for nomes in range (1):\n",
        "  print(nomes)"
      ],
      "metadata": {
        "colab": {
          "base_uri": "https://localhost:8080/"
        },
        "id": "yXc6CgSmI7zj",
        "outputId": "01505677-4dbf-48a5-82f1-84ad80aea065"
      },
      "execution_count": 69,
      "outputs": [
        {
          "output_type": "stream",
          "name": "stdout",
          "text": [
            "0\n"
          ]
        }
      ]
    },
    {
      "cell_type": "code",
      "source": [
        "contador = 0\n",
        "while contador <= 7:\n",
        "  print(contador)\n",
        "  contador += 1"
      ],
      "metadata": {
        "colab": {
          "base_uri": "https://localhost:8080/"
        },
        "id": "_0tVhipMJgnP",
        "outputId": "bd67d950-3e47-4905-bd52-0282ca629b2b"
      },
      "execution_count": 83,
      "outputs": [
        {
          "output_type": "stream",
          "name": "stdout",
          "text": [
            "0\n",
            "1\n",
            "2\n",
            "3\n",
            "4\n",
            "5\n",
            "6\n",
            "7\n"
          ]
        }
      ]
    },
    {
      "cell_type": "code",
      "source": [
        "for i in range(11, 21):\n",
        "  print (i)"
      ],
      "metadata": {
        "colab": {
          "base_uri": "https://localhost:8080/"
        },
        "id": "rQ36AxOOK-F_",
        "outputId": "aca5320e-13cd-4550-cab7-cdf1a85244a2"
      },
      "execution_count": 92,
      "outputs": [
        {
          "output_type": "stream",
          "name": "stdout",
          "text": [
            "11\n",
            "12\n",
            "13\n",
            "14\n",
            "15\n",
            "16\n",
            "17\n",
            "18\n",
            "19\n",
            "20\n"
          ]
        }
      ]
    },
    {
      "cell_type": "code",
      "source": [
        "soma = 0\n",
        "for i in range(1, 11):\n",
        "  soma += i\n",
        "print(\"Soma:\", soma)"
      ],
      "metadata": {
        "colab": {
          "base_uri": "https://localhost:8080/"
        },
        "id": "E9jCNpXLL3M4",
        "outputId": "b9249f0b-d22d-4f9c-f3b9-67f7e1170acf"
      },
      "execution_count": 110,
      "outputs": [
        {
          "output_type": "stream",
          "name": "stdout",
          "text": [
            "Soma: 55\n"
          ]
        }
      ]
    },
    {
      "cell_type": "code",
      "source": [
        "n = int(input(\"Digite um número: \"))\n",
        "for i in range(1, 11):\n",
        "  print(f\"{n} X {i} = {n*i}\")"
      ],
      "metadata": {
        "colab": {
          "base_uri": "https://localhost:8080/"
        },
        "id": "qInDcDvmN-hZ",
        "outputId": "33df186e-c92b-43a7-9180-9f6a1939ba19"
      },
      "execution_count": 119,
      "outputs": [
        {
          "output_type": "stream",
          "name": "stdout",
          "text": [
            "Digite um número: 1111\n",
            "1111 X 1 = 1111\n",
            "1111 X 2 = 2222\n",
            "1111 X 3 = 3333\n",
            "1111 X 4 = 4444\n",
            "1111 X 5 = 5555\n",
            "1111 X 6 = 6666\n",
            "1111 X 7 = 7777\n",
            "1111 X 8 = 8888\n",
            "1111 X 9 = 9999\n",
            "1111 X 10 = 11110\n"
          ]
        }
      ]
    },
    {
      "cell_type": "code",
      "source": [
        "contador = 0\n",
        "while contador <= 20:\n",
        "  print(contador)\n",
        "  contador += 2"
      ],
      "metadata": {
        "colab": {
          "base_uri": "https://localhost:8080/"
        },
        "id": "oPn8PDq9P330",
        "outputId": "0f6c6eb3-fa08-436f-d0f0-65dd08a6566d"
      },
      "execution_count": 120,
      "outputs": [
        {
          "output_type": "stream",
          "name": "stdout",
          "text": [
            "0\n",
            "2\n",
            "4\n",
            "6\n",
            "8\n",
            "10\n",
            "12\n",
            "14\n",
            "16\n",
            "18\n",
            "20\n"
          ]
        }
      ]
    },
    {
      "cell_type": "code",
      "source": [
        "for i in range(0,21,):\n",
        "    if i%2 == 0:\n",
        "      print(i)\n"
      ],
      "metadata": {
        "colab": {
          "base_uri": "https://localhost:8080/"
        },
        "id": "HuHYJuXiQHuv",
        "outputId": "4d464f4d-56cd-46ac-a012-0fa4a07de8dd"
      },
      "execution_count": 144,
      "outputs": [
        {
          "output_type": "stream",
          "name": "stdout",
          "text": [
            "0\n",
            "2\n",
            "4\n",
            "6\n",
            "8\n",
            "10\n",
            "12\n",
            "14\n",
            "16\n",
            "18\n",
            "20\n"
          ]
        }
      ]
    },
    {
      "cell_type": "code",
      "source": [
        "for i in range(0,51,  2):\n",
        "  print(i)"
      ],
      "metadata": {
        "colab": {
          "base_uri": "https://localhost:8080/"
        },
        "id": "LfEkDNbzSPSv",
        "outputId": "7526aa2f-7448-48a8-997f-50b6097f7762"
      },
      "execution_count": 146,
      "outputs": [
        {
          "output_type": "stream",
          "name": "stdout",
          "text": [
            "0\n",
            "2\n",
            "4\n",
            "6\n",
            "8\n",
            "10\n",
            "12\n",
            "14\n",
            "16\n",
            "18\n",
            "20\n",
            "22\n",
            "24\n",
            "26\n",
            "28\n",
            "30\n",
            "32\n",
            "34\n",
            "36\n",
            "38\n",
            "40\n",
            "42\n",
            "44\n",
            "46\n",
            "48\n",
            "50\n"
          ]
        }
      ]
    },
    {
      "cell_type": "code",
      "source": [
        "for i in range(10, -1, -1):\n",
        "  print(i)"
      ],
      "metadata": {
        "colab": {
          "base_uri": "https://localhost:8080/"
        },
        "id": "AKCI9Ma3TXh7",
        "outputId": "eb193ce5-772d-4a72-ded1-1bb9c4c2fb5d"
      },
      "execution_count": 151,
      "outputs": [
        {
          "output_type": "stream",
          "name": "stdout",
          "text": [
            "10\n",
            "9\n",
            "8\n",
            "7\n",
            "6\n",
            "5\n",
            "4\n",
            "3\n",
            "2\n",
            "1\n",
            "0\n"
          ]
        }
      ]
    },
    {
      "cell_type": "code",
      "source": [
        "num = int(input(\"Digite um número (0 para sair):\"))\n",
        "while num != 0:\n",
        "  soma += num\n",
        "  num = int(input(\"Digite outro número (0 para sair):\"))\n",
        "  print(\"Soma total:\", soma)"
      ],
      "metadata": {
        "colab": {
          "base_uri": "https://localhost:8080/"
        },
        "id": "JMKI76l8UE7z",
        "outputId": "049f63c5-4e01-49a7-8756-a841f91a9462"
      },
      "execution_count": 164,
      "outputs": [
        {
          "output_type": "stream",
          "name": "stdout",
          "text": [
            "Digite um número (0 para sair):1\n",
            "Digite outro número (0 para sair):0\n",
            "Soma total: 212\n"
          ]
        }
      ]
    },
    {
      "cell_type": "code",
      "source": [
        "senha = \"8888\"\n",
        "tentativas = 0\n",
        "while True:\n",
        "  tentativas += 1\n",
        "  senhaDigitada = \"\"\n",
        "  senhaDigitada = input(\"Digite a senha: \")\n",
        "  if senhaDigitada != senha:\n",
        "    print(\"Senha incorreta\")\n",
        "\n",
        "  else:\n",
        "    print(\"Senha correta!\")\n",
        "    break\n",
        "\n",
        "  if tentativas >= 3:\n",
        "      print(\"Tentativas esgotadas\")\n",
        "      break\n"
      ],
      "metadata": {
        "colab": {
          "base_uri": "https://localhost:8080/"
        },
        "id": "CVz3d3vJXhaG",
        "outputId": "d9f3091e-86cb-43e4-cce6-4ac985aa021e"
      },
      "execution_count": 170,
      "outputs": [
        {
          "output_type": "stream",
          "name": "stdout",
          "text": [
            "Digite a senha: 2\n",
            "Senha incorreta\n",
            "Digite a senha: 8888\n",
            "Senha correta!\n"
          ]
        }
      ]
    },
    {
      "cell_type": "code",
      "source": [],
      "metadata": {
        "id": "dUMejAMObg3P"
      },
      "execution_count": null,
      "outputs": []
    }
  ]
}