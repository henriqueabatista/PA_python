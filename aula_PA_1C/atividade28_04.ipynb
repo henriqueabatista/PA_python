{
  "nbformat": 4,
  "nbformat_minor": 0,
  "metadata": {
    "colab": {
      "provenance": [],
      "authorship_tag": "ABX9TyM4/iz1tMoqKovdE632QXMy",
      "include_colab_link": true
    },
    "kernelspec": {
      "name": "python3",
      "display_name": "Python 3"
    },
    "language_info": {
      "name": "python"
    }
  },
  "cells": [
    {
      "cell_type": "markdown",
      "metadata": {
        "id": "view-in-github",
        "colab_type": "text"
      },
      "source": [
        "<a href=\"https://colab.research.google.com/github/henriqueabatista/PA_python/blob/main/aula_PA_1C/atividade28_04.ipynb\" target=\"_parent\"><img src=\"https://colab.research.google.com/assets/colab-badge.svg\" alt=\"Open In Colab\"/></a>"
      ]
    },
    {
      "cell_type": "code",
      "execution_count": 2,
      "metadata": {
        "colab": {
          "base_uri": "https://localhost:8080/"
        },
        "id": "56nzUkpnpDAJ",
        "outputId": "93c03eae-c0ad-4440-ed11-f017f586e1f7"
      },
      "outputs": [
        {
          "output_type": "stream",
          "name": "stdout",
          "text": [
            "Digite um numero para ver se ele é par ou impar!4\n",
            "Esse numero é par True\n",
            "Esse numero é impar False\n"
          ]
        }
      ],
      "source": [
        "#Entrada\n",
        "valor = int(input(\"Digite um numero para ver se ele é par ou impar!\"))\n",
        "\n",
        "##Processamento\n",
        "par = (valor%2 == 0)\n",
        "impar = (valor%2 == 1)\n",
        "\n",
        "##Saida\n",
        "print(\"Esse numero é par\", par)\n",
        "print(\"Esse numero é impar\", impar)"
      ]
    },
    {
      "cell_type": "code",
      "source": [
        "\n",
        "#Entrada\n",
        "l1 = int(input(\"Digite os tres lados do triangulo\"))\n",
        "l2 = int(input(\"Digite o lado do l2\"))\n",
        "l3 = int(input(\"Digite o lado do l3\"))\n",
        "\n",
        "##Processamento\n",
        "triangulo = (l1+l2>l3) and (l2+l3>l1) and (l3+l1>l2)\n",
        "print(triangulo)\n",
        "\n",
        "equilatero = (l1==l2==l3)\n",
        "print(equilatero)\n",
        "\n",
        "escaleno= l1!= l2 != l3\n",
        "print(escaleno)\n",
        "\n",
        "isosceles = (l1==l2)!=l3\n",
        "print(isosceles)\n",
        "\n",
        "\n",
        "##Saida\n",
        "print(\"O triangulo é valido?\", triangulo)\n",
        "print(\"O equilatero é\", equilatero)\n",
        "print(\"O escaleno é\", escaleno)\n",
        "print(\"O isosceles é\", isosceles)\n"
      ],
      "metadata": {
        "colab": {
          "base_uri": "https://localhost:8080/"
        },
        "id": "yu5dBio-tjxU",
        "outputId": "b8ffbf19-42fc-41db-890e-03203a3980e3"
      },
      "execution_count": 12,
      "outputs": [
        {
          "output_type": "stream",
          "name": "stdout",
          "text": [
            "Digite os tres lados do triangulo5\n",
            "Digite o lado do l26\n",
            "Digite o lado do l37\n",
            "True\n",
            "False\n",
            "True\n",
            "True\n",
            "O triangulo é valido? True\n",
            "O equilatero é False\n",
            "O escaleno é True\n",
            "O isosceles é True\n"
          ]
        }
      ]
    },
    {
      "cell_type": "code",
      "source": [
        "#Entrada\n",
        "peso = float(input(\"Informe o peso(em kg)\"))\n",
        "altura = float(input(\"Informe a altura (em metros)\"))\n",
        "\n",
        "##Processamento\n",
        "imc = (peso/altura**2)\n",
        "print(imc)\n",
        "\n",
        "adp = (imc<18.5)\n",
        "print(adp)\n",
        "\n",
        "pn = (imc>=18.5 and imc<=24.9)\n",
        "print(pn)\n",
        "\n",
        "sobrepeso = (imc>=25 and imc<=29.9)\n",
        "print(sobrepeso)\n",
        "\n",
        "obesidade1 = (imc>=30 and imc <=34.9)\n",
        "print(obesidade1)\n",
        "\n",
        "obesidade2 = (imc>=35 and imc<=39.9)\n",
        "print(obesidade2)\n",
        "\n",
        "obesidade3 = (imc>=40)\n",
        "print(obesidade3)\n",
        "\n",
        "##Saida\n",
        "print(\"seu imc é\", imc)\n",
        "print(\"O adp é\", adp)\n",
        "print(\"O pn é\", pn)\n",
        "print(\"O sobrepeso é\", sobrepeso)\n",
        "print(\"O obesidade1 é\", obesidade1)\n",
        "print(\"O obesidade2 é\", obesidade2)\n",
        "print(\"O obesidade3 é\", obesidade3)\n",
        "\n",
        "\n",
        "\n",
        "\n",
        "\n"
      ],
      "metadata": {
        "colab": {
          "base_uri": "https://localhost:8080/"
        },
        "id": "X8wSjYjjzBJn",
        "outputId": "60940bd0-5a1b-4532-9b3b-c623e3ffdd06"
      },
      "execution_count": 35,
      "outputs": [
        {
          "output_type": "stream",
          "name": "stdout",
          "text": [
            "Informe o peso(em kg)70\n",
            "Informe a altura (em metros)180\n",
            "0.0021604938271604936\n",
            "True\n",
            "False\n",
            "False\n",
            "False\n",
            "False\n",
            "False\n",
            "seu imc é 0.0021604938271604936\n",
            "O adp é True\n",
            "O pn é False\n",
            "O sobrepeso é False\n",
            "O obesidade1 é False\n",
            "O obesidade2 é False\n",
            "O obesidade3 é False\n"
          ]
        }
      ]
    },
    {
      "cell_type": "code",
      "source": [
        "#Entrada\n",
        "altura = float(input(\"Informe a altura\"))\n",
        "idade = int(input(\"Informe a idade\"))\n",
        "\n",
        "##Processamento\n",
        "pode = altura>=1.75 and idade>=18\n",
        "\n",
        "##Saida\n",
        "print(\"pode\", pode)"
      ],
      "metadata": {
        "colab": {
          "base_uri": "https://localhost:8080/"
        },
        "id": "q4vpqESX_qOk",
        "outputId": "00b65b2e-2764-400b-dbf2-a76a0ade56cc"
      },
      "execution_count": 36,
      "outputs": [
        {
          "output_type": "stream",
          "name": "stdout",
          "text": [
            "Informe a altura190\n",
            "Informe a idade18\n",
            "pode True\n"
          ]
        }
      ]
    }
  ]
}