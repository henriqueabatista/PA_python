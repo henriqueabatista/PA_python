{
  "nbformat": 4,
  "nbformat_minor": 0,
  "metadata": {
    "colab": {
      "provenance": [],
      "authorship_tag": "ABX9TyOHf1m+i8y65KXq/OcnTrxu",
      "include_colab_link": true
    },
    "kernelspec": {
      "name": "python3",
      "display_name": "Python 3"
    },
    "language_info": {
      "name": "python"
    }
  },
  "cells": [
    {
      "cell_type": "markdown",
      "metadata": {
        "id": "view-in-github",
        "colab_type": "text"
      },
      "source": [
        "<a href=\"https://colab.research.google.com/github/henriqueabatista/PA_python/blob/main/aula_PA_1C/Variaveis.ipynb\" target=\"_parent\"><img src=\"https://colab.research.google.com/assets/colab-badge.svg\" alt=\"Open In Colab\"/></a>"
      ]
    },
    {
      "cell_type": "code",
      "execution_count": 1,
      "metadata": {
        "colab": {
          "base_uri": "https://localhost:8080/"
        },
        "id": "xKRwvVsG-d0L",
        "outputId": "dfa88dbb-6fa6-4b75-a6e8-01a5b57d4f31"
      },
      "outputs": [
        {
          "output_type": "stream",
          "name": "stdout",
          "text": [
            "A soma é igual a 30\n"
          ]
        }
      ],
      "source": [
        "# Somar\n",
        "\n",
        "##Entrada\n",
        "num1 = 10\n",
        "num2 = 20\n",
        "\n",
        "##Processamento\n",
        "soma = num1 + num2\n",
        "\n",
        "##Saida\n",
        "print('A soma é igual a', soma)\n"
      ]
    },
    {
      "cell_type": "code",
      "source": [
        "# Subtrair\n",
        "\n",
        "##Entrada\n",
        "num1 = 100\n",
        "num2 = 49\n",
        "\n",
        "##Processamento\n",
        "subtração = num1 - num2\n",
        "\n",
        "##Saida\n",
        "print('A subtração é igual a', subtração)"
      ],
      "metadata": {
        "colab": {
          "base_uri": "https://localhost:8080/"
        },
        "id": "sDZZ15DAAymH",
        "outputId": "914a1b52-5a15-42d8-fcb1-086e2dcc1aec"
      },
      "execution_count": 6,
      "outputs": [
        {
          "output_type": "stream",
          "name": "stdout",
          "text": [
            "A subtração é igual a 51\n"
          ]
        }
      ]
    },
    {
      "cell_type": "code",
      "source": [
        "# Multiplicar\n",
        "\n",
        "##Entrada\n",
        "num1 = 20\n",
        "num2= 100\n",
        "\n",
        "##Processamento\n",
        "multiplicação = num1 * num2\n",
        "\n",
        "##Saida\n",
        "print('A multiplicação é igual a', multiplicação)"
      ],
      "metadata": {
        "colab": {
          "base_uri": "https://localhost:8080/"
        },
        "id": "1zTziwMXBe-1",
        "outputId": "7ebf151b-23ef-4e41-81e5-d4815d7d48da"
      },
      "execution_count": 7,
      "outputs": [
        {
          "output_type": "stream",
          "name": "stdout",
          "text": [
            "A multiplicação é igual a 2000\n"
          ]
        }
      ]
    },
    {
      "cell_type": "code",
      "source": [
        "# Divisão\n",
        "\n",
        "##Entrada\n",
        "num1 = 100\n",
        "num2 = 20\n",
        "\n",
        "##Processamento\n",
        "divisão = num1 / num2\n",
        "\n",
        "##Saida\n",
        "print('A divisão é igual a', divisão)"
      ],
      "metadata": {
        "colab": {
          "base_uri": "https://localhost:8080/"
        },
        "id": "yfh9qe53B_ml",
        "outputId": "37f1f206-d2e3-48e0-98bb-ee7b35cfb28e"
      },
      "execution_count": 8,
      "outputs": [
        {
          "output_type": "stream",
          "name": "stdout",
          "text": [
            "A divisão é igual a 5.0\n"
          ]
        }
      ]
    }
  ]
}