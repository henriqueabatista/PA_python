{
  "nbformat": 4,
  "nbformat_minor": 0,
  "metadata": {
    "colab": {
      "provenance": [],
      "authorship_tag": "ABX9TyO3fA9Srap5eR31ju76Vzaq",
      "include_colab_link": true
    },
    "kernelspec": {
      "name": "python3",
      "display_name": "Python 3"
    },
    "language_info": {
      "name": "python"
    }
  },
  "cells": [
    {
      "cell_type": "markdown",
      "metadata": {
        "id": "view-in-github",
        "colab_type": "text"
      },
      "source": [
        "<a href=\"https://colab.research.google.com/github/henriqueabatista/PA_python/blob/main/aula_PA_1C/revis%C3%A3o.ipynb\" target=\"_parent\"><img src=\"https://colab.research.google.com/assets/colab-badge.svg\" alt=\"Open In Colab\"/></a>"
      ]
    },
    {
      "cell_type": "code",
      "execution_count": 12,
      "metadata": {
        "colab": {
          "base_uri": "https://localhost:8080/"
        },
        "id": "dhJWipbnJ6r9",
        "outputId": "b9f94066-67e3-4b6f-97e1-49a5398cce9f"
      },
      "outputs": [
        {
          "output_type": "stream",
          "name": "stdout",
          "text": [
            "Digite o número: 0.01\n",
            "positivo\n"
          ]
        }
      ],
      "source": [
        "#entrada\n",
        "numero = float(input(\"Digite o número: \"))\n",
        "\n",
        "##processamento\n",
        "if numero > 0:\n",
        "  print(\"positivo\")\n",
        "\n",
        "elif numero < 0:\n",
        "  print(\"negativo\")\n",
        "\n",
        "else:\n",
        "  print(\"zero\")"
      ]
    },
    {
      "cell_type": "code",
      "source": [
        "#entrada\n",
        "numero = float(input(\"digite o número: \"))\n",
        "\n",
        "##processamento\n",
        "if numero %2 == 0:\n",
        "  print(\"par\")\n",
        "\n",
        "else:\n",
        "  print(\"impar\")"
      ],
      "metadata": {
        "colab": {
          "base_uri": "https://localhost:8080/"
        },
        "id": "da6vClELLVMJ",
        "outputId": "b9ff879f-5ae7-4acb-8b6d-e1cc8bb17b9b"
      },
      "execution_count": 13,
      "outputs": [
        {
          "output_type": "stream",
          "name": "stdout",
          "text": [
            "digite o número: 3\n",
            "impar\n"
          ]
        }
      ]
    },
    {
      "cell_type": "code",
      "source": [
        "#entrada\n",
        "idade = int(input(\"digite a idade: \"))\n",
        "\n",
        "##processamento\n",
        "if idade >= 18:\n",
        "  print(\"maior de idade\")\n",
        "\n",
        "else:\n",
        "  print(\"menor de idade\")"
      ],
      "metadata": {
        "colab": {
          "base_uri": "https://localhost:8080/"
        },
        "id": "94LQK_yyMFom",
        "outputId": "9797d265-3d7e-45ee-95a5-c92ab45d9002"
      },
      "execution_count": 14,
      "outputs": [
        {
          "output_type": "stream",
          "name": "stdout",
          "text": [
            "digite a idade: 22\n",
            "maior de idade\n"
          ]
        }
      ]
    },
    {
      "cell_type": "code",
      "source": [
        "#entrada\n",
        "senha = int(input(\"Digite a senha: \"))\n",
        "\n",
        "##processamento\n",
        "if senha == 1234:\n",
        "  print(\"senha correta\")\n",
        "\n",
        "else:\n",
        "  print(\"senha errada\")"
      ],
      "metadata": {
        "colab": {
          "base_uri": "https://localhost:8080/"
        },
        "id": "bWW6BOwUMkWo",
        "outputId": "f07625d3-200a-4e9b-b731-dea1498c0892"
      },
      "execution_count": 15,
      "outputs": [
        {
          "output_type": "stream",
          "name": "stdout",
          "text": [
            "Digite a senha: 1\n",
            "senha errada\n"
          ]
        }
      ]
    },
    {
      "cell_type": "code",
      "source": [
        "#entrada\n",
        "nota = float(input(\"digite a nota: \"))\n",
        "\n",
        "##processamento\n",
        "if nota >=6:\n",
        "  print(\"aprovado\")\n",
        "\n",
        "else:\n",
        "  print(\"reprovado\")"
      ],
      "metadata": {
        "colab": {
          "base_uri": "https://localhost:8080/"
        },
        "id": "4lkFUB6xNBSN",
        "outputId": "b62f6066-48d6-4a77-c081-87ce0dfce0c1"
      },
      "execution_count": 16,
      "outputs": [
        {
          "output_type": "stream",
          "name": "stdout",
          "text": [
            "digite a nota: 5.5\n",
            "reprovado\n"
          ]
        }
      ]
    },
    {
      "cell_type": "code",
      "source": [
        "#entrada\n",
        "numero = int(input(\"digite o número: \"))\n",
        "\n",
        "##processamento\n",
        "\n",
        "if numero %3 == 0 and numero %5 == 0:\n",
        "  print(\"multiplo de ambos\")\n",
        "\n",
        "elif numero %3 == 0:\n",
        "  print(\"multiplo de 3\")\n",
        "\n",
        "elif numero %5 == 0:\n",
        "  print(\"multiplo de 5\")\n",
        "\n",
        "else:\n",
        "  print(\"não é multiplo\")"
      ],
      "metadata": {
        "colab": {
          "base_uri": "https://localhost:8080/"
        },
        "id": "6ZDz3xI9NVjA",
        "outputId": "43a94b41-9bfc-4ab8-f3f0-5e6e5a2ac38d"
      },
      "execution_count": 25,
      "outputs": [
        {
          "output_type": "stream",
          "name": "stdout",
          "text": [
            "digite o número: 15\n",
            "multiplo de ambos\n"
          ]
        }
      ]
    },
    {
      "cell_type": "code",
      "source": [
        "#entrada\n",
        "numero = float(input(\"digite o número: \"))\n",
        "\n",
        "##processamento\n",
        "if numero >=10 and numero <= 20:\n",
        "  print(\"está dentro do intervalo\")\n",
        "\n",
        "else:\n",
        "  print(\"não está\")"
      ],
      "metadata": {
        "colab": {
          "base_uri": "https://localhost:8080/"
        },
        "id": "cyMOUQMeOgaK",
        "outputId": "e635087e-3eb8-4176-d90d-7293bf4ee96b"
      },
      "execution_count": 26,
      "outputs": [
        {
          "output_type": "stream",
          "name": "stdout",
          "text": [
            "digite o número: 17.3\n",
            "está dentro do intervalo\n"
          ]
        }
      ]
    },
    {
      "cell_type": "code",
      "source": [
        "#entrada\n",
        "l1 = int(input(\"Digite o lado do l1: \"))\n",
        "l2 = int(input(\"Digite o lado do l2: \"))\n",
        "l3 = int(input(\"Digite o lado do l3: \"))\n",
        "\n",
        "##processamento\n",
        "if l1+l2>l3 and l2+l3>l1 and l3+l1>l2:\n",
        "  print(\"Triangulo\")\n",
        "\n",
        "elif l1==l2==l3:\n",
        "  print(\"equilatero\")\n",
        "\n",
        "elif l1!= l2 !=l3:\n",
        "  print(\"escaleno\")\n",
        "\n",
        "else:\n",
        "  print(\"isosceles\")"
      ],
      "metadata": {
        "colab": {
          "base_uri": "https://localhost:8080/"
        },
        "id": "kIGJfZIJO4Rk",
        "outputId": "485d3c68-fe51-4088-d9a1-4abdf1f602b0"
      },
      "execution_count": 29,
      "outputs": [
        {
          "output_type": "stream",
          "name": "stdout",
          "text": [
            "Digite o lado do l1: 8\n",
            "Digite o lado do l2: 4\n",
            "Digite o lado do l3: 2\n",
            "escaleno\n"
          ]
        }
      ]
    }
  ]
}