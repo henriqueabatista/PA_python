{
  "nbformat": 4,
  "nbformat_minor": 0,
  "metadata": {
    "colab": {
      "provenance": [],
      "authorship_tag": "ABX9TyMRYV8romgRjmwWDpnBVKKb",
      "include_colab_link": true
    },
    "kernelspec": {
      "name": "python3",
      "display_name": "Python 3"
    },
    "language_info": {
      "name": "python"
    }
  },
  "cells": [
    {
      "cell_type": "markdown",
      "metadata": {
        "id": "view-in-github",
        "colab_type": "text"
      },
      "source": [
        "<a href=\"https://colab.research.google.com/github/henriqueabatista/PA_python/blob/main/aula_PA_1C/operadores.ipynb\" target=\"_parent\"><img src=\"https://colab.research.google.com/assets/colab-badge.svg\" alt=\"Open In Colab\"/></a>"
      ]
    },
    {
      "cell_type": "code",
      "execution_count": 1,
      "metadata": {
        "colab": {
          "base_uri": "https://localhost:8080/"
        },
        "id": "JERl0mzrxvOq",
        "outputId": "be5c18dc-5f1b-4d8b-9be0-a957fa63914a"
      },
      "outputs": [
        {
          "output_type": "execute_result",
          "data": {
            "text/plain": [
              "2"
            ]
          },
          "metadata": {},
          "execution_count": 1
        }
      ],
      "source": [
        "# Soma\n",
        "1+1"
      ]
    },
    {
      "cell_type": "code",
      "source": [
        "# Subtração\n",
        "5-3"
      ],
      "metadata": {
        "colab": {
          "base_uri": "https://localhost:8080/"
        },
        "id": "Zo13mHOoyPz2",
        "outputId": "03079e5b-77b7-4059-ebae-2313ddcbe9c9"
      },
      "execution_count": 2,
      "outputs": [
        {
          "output_type": "execute_result",
          "data": {
            "text/plain": [
              "2"
            ]
          },
          "metadata": {},
          "execution_count": 2
        }
      ]
    },
    {
      "cell_type": "code",
      "source": [
        "# Multiplicação\n",
        "5*5"
      ],
      "metadata": {
        "colab": {
          "base_uri": "https://localhost:8080/"
        },
        "id": "S7eKEE7Kyd4Q",
        "outputId": "5eea14ab-359d-4ed2-9d57-f93a323f6504"
      },
      "execution_count": 3,
      "outputs": [
        {
          "output_type": "execute_result",
          "data": {
            "text/plain": [
              "25"
            ]
          },
          "metadata": {},
          "execution_count": 3
        }
      ]
    },
    {
      "cell_type": "code",
      "source": [
        "# Divisão\n",
        "6/2"
      ],
      "metadata": {
        "colab": {
          "base_uri": "https://localhost:8080/"
        },
        "id": "8I2botp_yyKO",
        "outputId": "40d9b8c7-cf80-465e-d56b-6dff2cc9c01d"
      },
      "execution_count": 4,
      "outputs": [
        {
          "output_type": "execute_result",
          "data": {
            "text/plain": [
              "3.0"
            ]
          },
          "metadata": {},
          "execution_count": 4
        }
      ]
    },
    {
      "cell_type": "code",
      "source": [
        "# Expoente\n",
        "\n",
        "2**3"
      ],
      "metadata": {
        "colab": {
          "base_uri": "https://localhost:8080/"
        },
        "id": "rB77RgE7zSv7",
        "outputId": "2933cfb5-50f9-4cea-f64f-a4acaa46324a"
      },
      "execution_count": 8,
      "outputs": [
        {
          "output_type": "execute_result",
          "data": {
            "text/plain": [
              "8"
            ]
          },
          "metadata": {},
          "execution_count": 8
        }
      ]
    },
    {
      "cell_type": "markdown",
      "source": [
        "Variaveis"
      ],
      "metadata": {
        "id": "y1w49Mqg0Caz"
      }
    },
    {
      "cell_type": "code",
      "source": [
        "soma = 5+7"
      ],
      "metadata": {
        "id": "VDnfIMyt0GAP"
      },
      "execution_count": 10,
      "outputs": []
    },
    {
      "cell_type": "code",
      "source": [
        "print ('A soma é igual', soma)\n",
        "\n"
      ],
      "metadata": {
        "colab": {
          "base_uri": "https://localhost:8080/"
        },
        "id": "CWT1rT_w0rsr",
        "outputId": "e358446d-41a2-47a6-a9e3-6478e6cd1c9d"
      },
      "execution_count": 11,
      "outputs": [
        {
          "output_type": "stream",
          "name": "stdout",
          "text": [
            "A soma é igual 12\n"
          ]
        }
      ]
    },
    {
      "cell_type": "code",
      "source": [
        "soma"
      ],
      "metadata": {
        "colab": {
          "base_uri": "https://localhost:8080/"
        },
        "id": "TY4wPXz31CL-",
        "outputId": "ca7b5839-df15-45be-d924-195b2f6c98ad"
      },
      "execution_count": 12,
      "outputs": [
        {
          "output_type": "execute_result",
          "data": {
            "text/plain": [
              "12"
            ]
          },
          "metadata": {},
          "execution_count": 12
        }
      ]
    },
    {
      "cell_type": "code",
      "source": [
        "soma = soma + 2\n",
        "print('A soma agora é', soma)"
      ],
      "metadata": {
        "colab": {
          "base_uri": "https://localhost:8080/"
        },
        "id": "X-T9EF4b1J8a",
        "outputId": "e68b46e2-9de8-404b-8380-7d4f3c3ff024"
      },
      "execution_count": 15,
      "outputs": [
        {
          "output_type": "stream",
          "name": "stdout",
          "text": [
            "A soma agora é 11\n"
          ]
        }
      ]
    },
    {
      "cell_type": "code",
      "source": [
        "soma = soma -5\n",
        "print('A soma agora tem', soma)"
      ],
      "metadata": {
        "colab": {
          "base_uri": "https://localhost:8080/"
        },
        "id": "O1_4Wvid2SE3",
        "outputId": "1f0bb75f-dbc6-4976-951b-3eed8e2738dc"
      },
      "execution_count": 14,
      "outputs": [
        {
          "output_type": "stream",
          "name": "stdout",
          "text": [
            "A soma agora tem 9\n"
          ]
        }
      ]
    },
    {
      "cell_type": "code",
      "source": [
        "soma = soma +2-5*8/3\n",
        "print('A soma agora tem', soma)"
      ],
      "metadata": {
        "colab": {
          "base_uri": "https://localhost:8080/"
        },
        "id": "TqclJgFh2wCg",
        "outputId": "70ab02d8-6c9b-4226-a7b5-acfb807d7a76"
      },
      "execution_count": 16,
      "outputs": [
        {
          "output_type": "stream",
          "name": "stdout",
          "text": [
            "A soma agora tem -0.3333333333333339\n"
          ]
        }
      ]
    },
    {
      "cell_type": "markdown",
      "source": [
        "Variaveis 1"
      ],
      "metadata": {
        "id": "_vW6wq1y4CVf"
      }
    },
    {
      "cell_type": "code",
      "source": [
        "soma1 = 5+3+8 * (50-40) /2\n",
        "print('A soma 1 é igual a', soma)"
      ],
      "metadata": {
        "colab": {
          "base_uri": "https://localhost:8080/"
        },
        "id": "MVAbGpti4JCn",
        "outputId": "e973585c-6f69-4136-ac24-44c5106a572e"
      },
      "execution_count": 25,
      "outputs": [
        {
          "output_type": "stream",
          "name": "stdout",
          "text": [
            "A soma 1 é igual a 24\n"
          ]
        }
      ]
    },
    {
      "cell_type": "code",
      "source": [
        "# Calcular área do quadrado6\n",
        "\n",
        "##Entrada\n",
        "lado = float(input('digite o lado do quadrado'))\n",
        "\n",
        "##Processamento\n",
        "área = lado * lado\n",
        "\n",
        "##Saída\n",
        "print ('A área do quadrado é', área, 'cm2')"
      ],
      "metadata": {
        "colab": {
          "base_uri": "https://localhost:8080/"
        },
        "id": "9_EJvLcd6ugj",
        "outputId": "f30501c7-432b-45c6-b75a-754873ac62b4"
      },
      "execution_count": 27,
      "outputs": [
        {
          "output_type": "stream",
          "name": "stdout",
          "text": [
            "digite o lado do quadrado6\n",
            "A área do quadrado é 36.0 cm2\n"
          ]
        }
      ]
    }
  ]
}