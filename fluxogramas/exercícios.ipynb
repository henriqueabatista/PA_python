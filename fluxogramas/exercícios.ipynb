{
  "nbformat": 4,
  "nbformat_minor": 0,
  "metadata": {
    "colab": {
      "provenance": [],
      "authorship_tag": "ABX9TyNniEcV1FuVzcbUCSbdHRQm",
      "include_colab_link": true
    },
    "kernelspec": {
      "name": "python3",
      "display_name": "Python 3"
    },
    "language_info": {
      "name": "python"
    }
  },
  "cells": [
    {
      "cell_type": "markdown",
      "metadata": {
        "id": "view-in-github",
        "colab_type": "text"
      },
      "source": [
        "<a href=\"https://colab.research.google.com/github/henriqueabatista/PA_python/blob/main/fluxogramas/exerc%C3%ADcios.ipynb\" target=\"_parent\"><img src=\"https://colab.research.google.com/assets/colab-badge.svg\" alt=\"Open In Colab\"/></a>"
      ]
    },
    {
      "cell_type": "markdown",
      "source": [
        "Exercício 1"
      ],
      "metadata": {
        "id": "RnkfY-YUHgXi"
      }
    },
    {
      "cell_type": "code",
      "source": [
        "\n",
        "#Entrada\n",
        "valorcarro = float(input('o valor do carro é'))\n",
        "\n",
        "##Processamento\n",
        "imposto = (valorcarro *50/100) + valorcarro\n",
        "distribuicao = (imposto *30/100) + imposto\n",
        "\n",
        "##Saída\n",
        "print ('o valor total será', distribuicao)"
      ],
      "metadata": {
        "colab": {
          "base_uri": "https://localhost:8080/"
        },
        "id": "UyXHcwkXHkfo",
        "outputId": "e940d404-7d59-4572-b5de-81e5548bb8c4"
      },
      "execution_count": 2,
      "outputs": [
        {
          "output_type": "stream",
          "name": "stdout",
          "text": [
            "o valor do carro é30.000\n",
            "o valor total será 58.5\n"
          ]
        }
      ]
    },
    {
      "cell_type": "markdown",
      "source": [
        "Exercício 2"
      ],
      "metadata": {
        "id": "Jsxp5EqSJ5yO"
      }
    },
    {
      "cell_type": "code",
      "source": [
        "#Entrada\n",
        "hora = float(input('a hora é'))\n",
        "min = float(input('o min é'))\n",
        "\n",
        "\n",
        "##Processamento\n",
        "conversao = (min/60) + hora\n",
        "segundos = conversao * 3600\n",
        "\n",
        "##Saída\n",
        "\n",
        "print ('os segundos serão', segundos)"
      ],
      "metadata": {
        "colab": {
          "base_uri": "https://localhost:8080/"
        },
        "id": "mDsF3DWZJ7u0",
        "outputId": "733e1962-bc29-4915-f545-0b23f8a26dce"
      },
      "execution_count": 3,
      "outputs": [
        {
          "output_type": "stream",
          "name": "stdout",
          "text": [
            "a hora é5\n",
            "o min é30\n",
            "os segundos serão 19800.0\n"
          ]
        }
      ]
    },
    {
      "cell_type": "markdown",
      "source": [
        "Exercício 3"
      ],
      "metadata": {
        "id": "g51OmKzPNsgI"
      }
    },
    {
      "cell_type": "code",
      "source": [
        "#Entrada\n",
        "\n",
        "hora = float(input('a hora é'))\n",
        "min = float(input('o min é'))\n",
        "valorhora = float(input('a valor da hora é'))\n",
        "\n",
        "##Processamento\n",
        "convertido = hora + (min/60)\n",
        "salário = convertido * 30\n",
        "horasamais = (salário *70/100) + salário\n",
        "\n",
        "##Saída\n",
        "\n",
        "print ('o salário final será', horasamais)"
      ],
      "metadata": {
        "colab": {
          "base_uri": "https://localhost:8080/"
        },
        "id": "a_tpgNmyNvtd",
        "outputId": "bfb9a0fb-e49f-4815-8008-0d674691b67f"
      },
      "execution_count": 5,
      "outputs": [
        {
          "output_type": "stream",
          "name": "stdout",
          "text": [
            "a hora é20\n",
            "o min é55\n",
            "a valor da hora é30\n",
            "o salário final será 1066.75\n"
          ]
        }
      ]
    }
  ]
}